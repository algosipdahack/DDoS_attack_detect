{
  "cells": [
    {
      "cell_type": "markdown",
      "metadata": {
        "id": "view-in-github",
        "colab_type": "text"
      },
      "source": [
        "<a href=\"https://colab.research.google.com/github/algosipdahack/DDoS_attack_detect/blob/main/Network_intrusion_detection_system.ipynb\" target=\"_parent\"><img src=\"https://colab.research.google.com/assets/colab-badge.svg\" alt=\"Open In Colab\"/></a>"
      ]
    },
    {
      "cell_type": "markdown",
      "metadata": {
        "id": "bXHqId1t_FPB"
      },
      "source": [
        "필요한 모듈 불러오기"
      ],
      "id": "bXHqId1t_FPB"
    },
    {
      "cell_type": "code",
      "execution_count": 1,
      "metadata": {
        "colab": {
          "base_uri": "https://localhost:8080/"
        },
        "id": "RBGTLicDGujk",
        "outputId": "b957b1a1-98de-4938-ae0c-ed5f4cb4b3d7"
      },
      "outputs": [
        {
          "output_type": "stream",
          "name": "stdout",
          "text": [
            "Looking in indexes: https://pypi.org/simple, https://us-python.pkg.dev/colab-wheels/public/simple/\n",
            "Collecting import_ipynb\n",
            "  Downloading import_ipynb-0.1.4-py3-none-any.whl (4.1 kB)\n",
            "Requirement already satisfied: nbformat in /usr/local/lib/python3.7/dist-packages (from import_ipynb) (5.6.1)\n",
            "Requirement already satisfied: IPython in /usr/local/lib/python3.7/dist-packages (from import_ipynb) (7.9.0)\n",
            "Requirement already satisfied: pexpect in /usr/local/lib/python3.7/dist-packages (from IPython->import_ipynb) (4.8.0)\n",
            "Requirement already satisfied: traitlets>=4.2 in /usr/local/lib/python3.7/dist-packages (from IPython->import_ipynb) (5.1.1)\n",
            "Requirement already satisfied: setuptools>=18.5 in /usr/local/lib/python3.7/dist-packages (from IPython->import_ipynb) (57.4.0)\n",
            "Requirement already satisfied: backcall in /usr/local/lib/python3.7/dist-packages (from IPython->import_ipynb) (0.2.0)\n",
            "Collecting jedi>=0.10\n",
            "  Downloading jedi-0.18.1-py2.py3-none-any.whl (1.6 MB)\n",
            "\u001b[K     |████████████████████████████████| 1.6 MB 4.2 MB/s \n",
            "\u001b[?25hRequirement already satisfied: decorator in /usr/local/lib/python3.7/dist-packages (from IPython->import_ipynb) (4.4.2)\n",
            "Requirement already satisfied: pickleshare in /usr/local/lib/python3.7/dist-packages (from IPython->import_ipynb) (0.7.5)\n",
            "Requirement already satisfied: pygments in /usr/local/lib/python3.7/dist-packages (from IPython->import_ipynb) (2.6.1)\n",
            "Requirement already satisfied: prompt-toolkit<2.1.0,>=2.0.0 in /usr/local/lib/python3.7/dist-packages (from IPython->import_ipynb) (2.0.10)\n",
            "Requirement already satisfied: parso<0.9.0,>=0.8.0 in /usr/local/lib/python3.7/dist-packages (from jedi>=0.10->IPython->import_ipynb) (0.8.3)\n",
            "Requirement already satisfied: six>=1.9.0 in /usr/local/lib/python3.7/dist-packages (from prompt-toolkit<2.1.0,>=2.0.0->IPython->import_ipynb) (1.15.0)\n",
            "Requirement already satisfied: wcwidth in /usr/local/lib/python3.7/dist-packages (from prompt-toolkit<2.1.0,>=2.0.0->IPython->import_ipynb) (0.2.5)\n",
            "Requirement already satisfied: importlib-metadata>=3.6 in /usr/local/lib/python3.7/dist-packages (from nbformat->import_ipynb) (5.0.0)\n",
            "Requirement already satisfied: fastjsonschema in /usr/local/lib/python3.7/dist-packages (from nbformat->import_ipynb) (2.16.2)\n",
            "Requirement already satisfied: jupyter-core in /usr/local/lib/python3.7/dist-packages (from nbformat->import_ipynb) (4.11.1)\n",
            "Requirement already satisfied: jsonschema>=2.6 in /usr/local/lib/python3.7/dist-packages (from nbformat->import_ipynb) (4.3.3)\n",
            "Requirement already satisfied: typing-extensions>=3.6.4 in /usr/local/lib/python3.7/dist-packages (from importlib-metadata>=3.6->nbformat->import_ipynb) (4.1.1)\n",
            "Requirement already satisfied: zipp>=0.5 in /usr/local/lib/python3.7/dist-packages (from importlib-metadata>=3.6->nbformat->import_ipynb) (3.8.1)\n",
            "Requirement already satisfied: importlib-resources>=1.4.0 in /usr/local/lib/python3.7/dist-packages (from jsonschema>=2.6->nbformat->import_ipynb) (5.9.0)\n",
            "Requirement already satisfied: pyrsistent!=0.17.0,!=0.17.1,!=0.17.2,>=0.14.0 in /usr/local/lib/python3.7/dist-packages (from jsonschema>=2.6->nbformat->import_ipynb) (0.18.1)\n",
            "Requirement already satisfied: attrs>=17.4.0 in /usr/local/lib/python3.7/dist-packages (from jsonschema>=2.6->nbformat->import_ipynb) (22.1.0)\n",
            "Requirement already satisfied: ptyprocess>=0.5 in /usr/local/lib/python3.7/dist-packages (from pexpect->IPython->import_ipynb) (0.7.0)\n",
            "Installing collected packages: jedi, import-ipynb\n",
            "Successfully installed import-ipynb-0.1.4 jedi-0.18.1\n"
          ]
        }
      ],
      "source": [
        "from sklearn.model_selection import KFold\n",
        "from sklearn.model_selection import StratifiedKFold\n",
        "from imblearn.over_sampling import SMOTE\n",
        "from sklearn.metrics import f1_score\n",
        "import numpy as np\n",
        "import pandas as pd\n",
        "import matplotlib.pyplot as plt\n",
        "!pip install import_ipynb\n",
        "import import_ipynb\n",
        "from sklearn.model_selection import train_test_split\n",
        "from tensorflow.keras.models import Sequential, load_model, save_model\n",
        "from tensorflow.keras.layers import LSTM, Dense, RepeatVector, Masking, Bidirectional,Conv1D, MaxPooling1D\n",
        "import tensorflow as tf\n",
        "from sklearn.preprocessing import StandardScaler"
      ],
      "id": "RBGTLicDGujk"
    },
    {
      "cell_type": "markdown",
      "metadata": {
        "id": "Bd0WsGbB_Ipg"
      },
      "source": [
        "구글 드라이브에 데이터 파일을 올려놓은 뒤 드라이브와 코랩의 연동을 통해 데이터를 로드"
      ],
      "id": "Bd0WsGbB_Ipg"
    },
    {
      "cell_type": "code",
      "execution_count": 2,
      "metadata": {
        "colab": {
          "base_uri": "https://localhost:8080/"
        },
        "id": "Rmi2QD3VLoaT",
        "outputId": "c3a30479-8d39-42c8-ec7d-764593eb2cc7"
      },
      "outputs": [
        {
          "output_type": "stream",
          "name": "stdout",
          "text": [
            "Mounted at /content/drive\n"
          ]
        }
      ],
      "source": [
        "from google.colab import drive\n",
        "drive.mount('/content/drive')#구글 드라이브와 mount"
      ],
      "id": "Rmi2QD3VLoaT"
    },
    {
      "cell_type": "markdown",
      "metadata": {
        "id": "M0nNeGHy_M7c"
      },
      "source": [
        "데이터 로드"
      ],
      "id": "M0nNeGHy_M7c"
    },
    {
      "cell_type": "code",
      "execution_count": 3,
      "metadata": {
        "colab": {
          "base_uri": "https://localhost:8080/"
        },
        "id": "f88wutqHNEkc",
        "outputId": "1dc8442f-0c19-4993-8eee-e2b6b4504e5b"
      },
      "outputs": [
        {
          "output_type": "stream",
          "name": "stderr",
          "text": [
            "/usr/local/lib/python3.7/dist-packages/IPython/core/interactiveshell.py:3326: FutureWarning: The error_bad_lines argument has been deprecated and will be removed in a future version.\n",
            "\n",
            "\n",
            "  exec(code_obj, self.user_global_ns, self.user_ns)\n",
            "/usr/local/lib/python3.7/dist-packages/IPython/core/interactiveshell.py:3326: DtypeWarning: Columns (12,13,14,15,16,18,19,21) have mixed types.Specify dtype option on import or set low_memory=False.\n",
            "  exec(code_obj, self.user_global_ns, self.user_ns)\n"
          ]
        }
      ],
      "source": [
        "import numpy as np\n",
        "import pandas as pd\n",
        "import matplotlib.pyplot as plt\n",
        "\n",
        "benign_path = \"/content/drive/MyDrive/information_system/normal/\"\n",
        "malicious_path = \"/content/drive/MyDrive/information_system/malicious/\"\n",
        "\n",
        "benign=[]\n",
        "for i in range(5):\n",
        "    benign.append(pd.read_csv(benign_path+'network_benign_training_set_'+str(i).zfill(2)+'.csv',error_bad_lines=False))\n",
        "malicious=pd.read_csv(malicious_path+'network_malicious_training_set.csv',error_bad_lines=False)"
      ],
      "id": "f88wutqHNEkc"
    },
    {
      "cell_type": "markdown",
      "metadata": {
        "id": "q3_TEVIyNpum"
      },
      "source": [
        "전처리"
      ],
      "id": "q3_TEVIyNpum"
    },
    {
      "cell_type": "code",
      "execution_count": 4,
      "metadata": {
        "colab": {
          "base_uri": "https://localhost:8080/"
        },
        "id": "S_cw5BwWNpk9",
        "outputId": "d1bae369-d829-49b6-c623-1b2d6e14a275"
      },
      "outputs": [
        {
          "output_type": "stream",
          "name": "stderr",
          "text": [
            "/usr/local/lib/python3.7/dist-packages/ipykernel_launcher.py:6: FutureWarning: casting datetime64[ns] values to int64 with .astype(...) is deprecated and will raise in a future version. Use .view(...) instead.\n",
            "  \n"
          ]
        }
      ],
      "source": [
        "import datetime\n",
        "for i in range(5):\n",
        "  # Time 속성 전처리\n",
        "  benign[i]['_ws.col.UTCtime'] = pd.to_datetime(benign[i]['_ws.col.UTCtime'])\n",
        "  # 각 CSV 파일마다 time의 단위를 utc time -> 밀리초 단위로 변환\n",
        "  benign[i]['_ws.col.UTCtime'] = benign[i]['_ws.col.UTCtime'].astype(np.int64)//10**9\n",
        "  # 한 엑셀 파일 당 처음 밀리초를 0부터 시작하게 만듦\n",
        "  benign[i]['_ws.col.UTCtime'] = benign[i]['_ws.col.UTCtime'] - benign[i].iloc[0,0]\n",
        "  \n",
        "  # 열자르기\n",
        "  benign[i] = benign[i].loc[:,\"_ws.col.UTCtime\":\"tcp.ack\"]\n",
        "  benign[i] = benign[i].dropna(axis=0)"
      ],
      "id": "S_cw5BwWNpk9"
    },
    {
      "cell_type": "code",
      "execution_count": 5,
      "metadata": {
        "colab": {
          "base_uri": "https://localhost:8080/"
        },
        "id": "UQm_UpW_UVD3",
        "outputId": "5a017bb1-a59e-4c46-d215-b3cd55460e27"
      },
      "outputs": [
        {
          "output_type": "stream",
          "name": "stderr",
          "text": [
            "/usr/local/lib/python3.7/dist-packages/ipykernel_launcher.py:2: FutureWarning: casting datetime64[ns] values to int64 with .astype(...) is deprecated and will raise in a future version. Use .view(...) instead.\n",
            "  \n"
          ]
        }
      ],
      "source": [
        "malicious['_ws.col.UTCtime'] = pd.to_datetime(malicious['_ws.col.UTCtime'])\n",
        "malicious['_ws.col.UTCtime'] = malicious['_ws.col.UTCtime'].astype(np.int64)//10**9\n",
        "malicious['_ws.col.UTCtime'] = malicious['_ws.col.UTCtime'] - malicious.iloc[0,0]\n",
        "\n",
        "malicious = malicious.loc[:,\"_ws.col.UTCtime\":\"tcp.ack\"]\n",
        "malicious = malicious.dropna(axis=0)"
      ],
      "id": "UQm_UpW_UVD3"
    },
    {
      "cell_type": "markdown",
      "metadata": {
        "id": "iezFd3Wr_tnY"
      },
      "source": [
        "각 속성값 정의"
      ],
      "id": "iezFd3Wr_tnY"
    },
    {
      "cell_type": "code",
      "execution_count": 6,
      "metadata": {
        "id": "TlElcwyvIKFY"
      },
      "outputs": [],
      "source": [
        "for i in range(len(benign)):\n",
        "    benign[i] = benign[i].astype({\"_ws.col.UTCtime\":'int','tcp.srcport': 'int','tcp.dstport': 'int','tcp.len': 'int','tcp.seq':'int','tcp.ack': 'int'})\n",
        "malicious = malicious.astype({\"_ws.col.UTCtime\":'int','tcp.srcport': 'int','tcp.dstport': 'int','tcp.len': 'int','tcp.seq':'int','tcp.ack': 'int'})"
      ],
      "id": "TlElcwyvIKFY"
    },
    {
      "cell_type": "code",
      "execution_count": 7,
      "metadata": {
        "id": "qFkRidIaGujn"
      },
      "outputs": [],
      "source": [
        "#benign data를 그룹핑하고 100개가 넘는 그룹을 골라내기\n",
        "groupset=[]\n",
        "over_100_group=[]\n",
        "for i in range(len(benign)):\n",
        "    gb = benign[i].groupby(['_ws.col.Protocol','ip.src','ip.dst','tcp.srcport'])\n",
        "    for key, group in gb:\n",
        "        group = np.asarray(group)\n",
        "        if len(group) > 100:\n",
        "            over_100_group.append(group)\n",
        "        else :\n",
        "            groupset.append(group)"
      ],
      "id": "qFkRidIaGujn"
    },
    {
      "cell_type": "code",
      "execution_count": 8,
      "metadata": {
        "id": "agPD6mDOGujo"
      },
      "outputs": [],
      "source": [
        "#benign data 100개가 넘는 그룹 100개씩 잘라서 그룹셋에 넣기\n",
        "for i in range(len(over_100_group)):\n",
        "    for j in range(0,len(over_100_group[i]),100):\n",
        "        groupset.append(over_100_group[i][j:j+100])"
      ],
      "id": "agPD6mDOGujo"
    },
    {
      "cell_type": "code",
      "execution_count": 66,
      "metadata": {
        "colab": {
          "base_uri": "https://localhost:8080/"
        },
        "id": "ae7MdCC5Gujo",
        "outputId": "0010910a-d8ab-4bfe-a009-bdc8845b6bf0"
      },
      "outputs": [
        {
          "output_type": "execute_result",
          "data": {
            "text/plain": [
              "217221"
            ]
          },
          "metadata": {},
          "execution_count": 66
        }
      ],
      "source": [
        "len(groupset)"
      ],
      "id": "ae7MdCC5Gujo"
    },
    {
      "cell_type": "code",
      "execution_count": 10,
      "metadata": {
        "id": "VFJUdFIKGujo"
      },
      "outputs": [],
      "source": [
        "for i in range(len(groupset)):\n",
        "    groupset[i][:,0] = groupset[i][:,0] - groupset[i][0][0]"
      ],
      "id": "VFJUdFIKGujo"
    },
    {
      "cell_type": "code",
      "execution_count": 11,
      "metadata": {
        "id": "ufyloJ9AGujp"
      },
      "outputs": [],
      "source": [
        "X=[]\n",
        "for i in range(len(groupset)):\n",
        "    # 각 groupset들의 헤더 제거\n",
        "    temp = np.delete(groupset[i],[1,2,3,4,5],1)\n",
        "    num = 100 - len(temp)\n",
        "    # -1로 패딩\n",
        "    X.append(np.pad(temp,((0,num),(0,0)),'constant', constant_values=-1))"
      ],
      "id": "ufyloJ9AGujp"
    },
    {
      "cell_type": "markdown",
      "metadata": {
        "id": "lbDv1SUJDnN9"
      },
      "source": [
        "X_data로 변환"
      ],
      "id": "lbDv1SUJDnN9"
    },
    {
      "cell_type": "code",
      "execution_count": 12,
      "metadata": {
        "id": "LqB0dhxsGujp"
      },
      "outputs": [],
      "source": [
        "X_data=np.asarray(X)"
      ],
      "id": "LqB0dhxsGujp"
    },
    {
      "cell_type": "code",
      "execution_count": 13,
      "metadata": {
        "colab": {
          "base_uri": "https://localhost:8080/"
        },
        "id": "cxgPkjZLGujp",
        "outputId": "41c4701d-36d7-45f4-9b23-6802e6bb27fa"
      },
      "outputs": [
        {
          "output_type": "execute_result",
          "data": {
            "text/plain": [
              "79355"
            ]
          },
          "metadata": {},
          "execution_count": 13
        }
      ],
      "source": [
        "len(X_data)"
      ],
      "id": "cxgPkjZLGujp"
    },
    {
      "cell_type": "markdown",
      "metadata": {
        "id": "KfcL3WI4Dqht"
      },
      "source": [
        "Y_data(라벨 생성)"
      ],
      "id": "KfcL3WI4Dqht"
    },
    {
      "cell_type": "code",
      "execution_count": 14,
      "metadata": {
        "id": "UkOYcdXxGujp"
      },
      "outputs": [],
      "source": [
        "Y_data=[]\n",
        "for i in range(len(X_data)):\n",
        "    # 정상 데이터 이므로 => 0\n",
        "    Y_data.append(0)"
      ],
      "id": "UkOYcdXxGujp"
    },
    {
      "cell_type": "code",
      "execution_count": 15,
      "metadata": {
        "colab": {
          "base_uri": "https://localhost:8080/"
        },
        "id": "R1g0dQRaGujp",
        "outputId": "5002932a-b73c-4f2b-d47b-dd22de5dc79b"
      },
      "outputs": [
        {
          "output_type": "execute_result",
          "data": {
            "text/plain": [
              "79355"
            ]
          },
          "metadata": {},
          "execution_count": 15
        }
      ],
      "source": [
        "len(Y_data)"
      ],
      "id": "R1g0dQRaGujp"
    },
    {
      "cell_type": "code",
      "execution_count": 16,
      "metadata": {
        "colab": {
          "base_uri": "https://localhost:8080/"
        },
        "id": "jFgiCHIlGujp",
        "outputId": "a49ec7fd-115e-4009-996b-b3bb92ca8146"
      },
      "outputs": [
        {
          "output_type": "execute_result",
          "data": {
            "text/plain": [
              "(79355, 100, 4)"
            ]
          },
          "metadata": {},
          "execution_count": 16
        }
      ],
      "source": [
        "X_data.shape"
      ],
      "id": "jFgiCHIlGujp"
    },
    {
      "cell_type": "markdown",
      "metadata": {
        "id": "tc9on7wxGujq"
      },
      "source": [
        "공격데이터"
      ],
      "id": "tc9on7wxGujq"
    },
    {
      "cell_type": "code",
      "execution_count": 17,
      "metadata": {
        "id": "QGqNeQebGujq"
      },
      "outputs": [],
      "source": [
        "groupset_a=[]\n",
        "over_100_group_a=[]\n",
        "gb = malicious.groupby(['_ws.col.Protocol','ip.src','ip.dst','tcp.srcport'])\n",
        "for key, group in gb:\n",
        "    group = np.asarray(group)\n",
        "    if len(group)>100:\n",
        "        over_100_group_a.append(group)\n",
        "    else :\n",
        "        groupset_a.append(group)\n"
      ],
      "id": "QGqNeQebGujq"
    },
    {
      "cell_type": "code",
      "execution_count": 18,
      "metadata": {
        "id": "Mj-aZB5YGujq"
      },
      "outputs": [],
      "source": [
        "for i in range(len(over_100_group_a)):\n",
        "    for j in range(0,len(over_100_group_a[i]),100):\n",
        "        groupset_a.append(over_100_group_a[i][j:j+100])"
      ],
      "id": "Mj-aZB5YGujq"
    },
    {
      "cell_type": "code",
      "execution_count": 19,
      "metadata": {
        "id": "RWSVLLQ2Gujq"
      },
      "outputs": [],
      "source": [
        "for i in range(len(groupset_a)):\n",
        "    groupset_a[i][:,0]=groupset_a[i][:,0]-groupset_a[i][0][0]"
      ],
      "id": "RWSVLLQ2Gujq"
    },
    {
      "cell_type": "code",
      "execution_count": 20,
      "metadata": {
        "id": "UhvKUkE0Gujq"
      },
      "outputs": [],
      "source": [
        "X_a=[]\n",
        "for i in range(len(groupset_a)):\n",
        "    temp = np.delete(groupset_a[i],[1,2,3,4,5],1)\n",
        "    num=100-len(temp)\n",
        "    X_a.append(np.pad(temp,((0,num),(0,0)),'constant', constant_values=-1))"
      ],
      "id": "UhvKUkE0Gujq"
    },
    {
      "cell_type": "code",
      "execution_count": 21,
      "metadata": {
        "id": "PT2CQmN-Gujq"
      },
      "outputs": [],
      "source": [
        "Y_a=[]\n",
        "for i in range(len(X_a)):\n",
        "    Y_a.append(1)"
      ],
      "id": "PT2CQmN-Gujq"
    },
    {
      "cell_type": "code",
      "execution_count": 22,
      "metadata": {
        "id": "OBLq3qzcGujq"
      },
      "outputs": [],
      "source": [
        "X_attack_data=np.asarray(X_a)\n",
        "Y_attack_data=np.asarray(Y_a)"
      ],
      "id": "OBLq3qzcGujq"
    },
    {
      "cell_type": "markdown",
      "metadata": {
        "id": "h_vS__coD3qE"
      },
      "source": [
        "전체 data"
      ],
      "id": "h_vS__coD3qE"
    },
    {
      "cell_type": "code",
      "execution_count": 23,
      "metadata": {
        "id": "Ch91wFzeGujr"
      },
      "outputs": [],
      "source": [
        "X_total=np.concatenate((X_data,X_attack_data), axis=0)\n",
        "#index : 0~891936 까지 normal, 총 891937"
      ],
      "id": "Ch91wFzeGujr"
    },
    {
      "cell_type": "code",
      "execution_count": 24,
      "metadata": {
        "colab": {
          "base_uri": "https://localhost:8080/"
        },
        "id": "a4o9R8wfGujr",
        "outputId": "9b9b0321-6959-4432-c7fc-f745e80a5cbb"
      },
      "outputs": [
        {
          "output_type": "execute_result",
          "data": {
            "text/plain": [
              "(79536, 100, 4)"
            ]
          },
          "metadata": {},
          "execution_count": 24
        }
      ],
      "source": [
        "X_total.shape"
      ],
      "id": "a4o9R8wfGujr"
    },
    {
      "cell_type": "code",
      "execution_count": 25,
      "metadata": {
        "id": "xT6ph85OGujr"
      },
      "outputs": [],
      "source": [
        "Y_total=np.concatenate((Y_data,Y_attack_data), axis=0)"
      ],
      "id": "xT6ph85OGujr"
    },
    {
      "cell_type": "code",
      "execution_count": 26,
      "metadata": {
        "colab": {
          "base_uri": "https://localhost:8080/"
        },
        "id": "JUWONoeXGujr",
        "outputId": "739549e1-33df-4973-8371-36bf02f78e67"
      },
      "outputs": [
        {
          "output_type": "execute_result",
          "data": {
            "text/plain": [
              "(79536,)"
            ]
          },
          "metadata": {},
          "execution_count": 26
        }
      ],
      "source": [
        "Y_total.shape"
      ],
      "id": "JUWONoeXGujr"
    },
    {
      "cell_type": "code",
      "execution_count": 27,
      "metadata": {
        "id": "Hrd0wLCQGujr"
      },
      "outputs": [],
      "source": [
        "# Conv1d 모델을 이용해 특징 맵 추출 후 가중치 부여, LSTM 단일 은닉층을 배치.\n",
        "def build_model():\n",
        "    learning_rate = 0.00001\n",
        "    seq_length = 100\n",
        "    data_dim = 4\n",
        "    METRICS = [\n",
        "      tf.keras.metrics.BinaryAccuracy(name='accuracy')\n",
        "    ]\n",
        "    model = Sequential()\n",
        "\n",
        "    model.add(Conv1D(256, 3, activation = 'relu', kernel_regularizer='l2', input_shape=(100, 4)))\n",
        "    model.add(MaxPooling1D(pool_size=4))    \n",
        "    model.add(Dense(128, activation='relu', kernel_regularizer='l2'))\n",
        "    model.add(LSTM(256))  \n",
        "    model.add(Dense(128, activation='relu', kernel_regularizer='l2'))\n",
        "    \n",
        "    model.add(Dense(1, activation='sigmoid', kernel_regularizer='l2'))\n",
        "\n",
        "    model.compile(loss='binary_crossentropy', optimizer=tf.keras.optimizers.Adam(lr=learning_rate), metrics=METRICS)\n",
        "    \n",
        "    return model"
      ],
      "id": "Hrd0wLCQGujr"
    },
    {
      "cell_type": "code",
      "execution_count": 28,
      "metadata": {
        "id": "8JQVjTtAGujr"
      },
      "outputs": [],
      "source": [
        "from sklearn.preprocessing import StandardScaler\n",
        "scaler = StandardScaler()"
      ],
      "id": "8JQVjTtAGujr"
    },
    {
      "cell_type": "markdown",
      "metadata": {
        "id": "ootJaPjWDAzj"
      },
      "source": [
        "  교차 검증 사용\n"
      ],
      "id": "ootJaPjWDAzj"
    },
    {
      "cell_type": "code",
      "execution_count": 29,
      "metadata": {
        "id": "yjwHZe92Gujr"
      },
      "outputs": [],
      "source": [
        "skf = StratifiedKFold(n_splits = 10)\n",
        "k = 10"
      ],
      "id": "yjwHZe92Gujr"
    },
    {
      "cell_type": "code",
      "execution_count": 30,
      "metadata": {
        "id": "d_HwULlLGujr"
      },
      "outputs": [],
      "source": [
        "from sklearn.metrics import f1_score\n",
        "from sklearn.metrics import accuracy_score\n",
        "from sklearn.metrics import confusion_matrix\n",
        "from imblearn.over_sampling import SMOTE"
      ],
      "id": "d_HwULlLGujr"
    },
    {
      "cell_type": "code",
      "execution_count": 32,
      "metadata": {
        "colab": {
          "base_uri": "https://localhost:8080/"
        },
        "id": "OnyEVRFaGujs",
        "scrolled": true,
        "outputId": "4d890680-8cb5-4cf5-9e89-90d6a04fe901"
      },
      "outputs": [
        {
          "output_type": "stream",
          "name": "stderr",
          "text": [
            "/usr/local/lib/python3.7/dist-packages/keras/optimizer_v2/adam.py:105: UserWarning: The `lr` argument is deprecated, use `learning_rate` instead.\n",
            "  super(Adam, self).__init__(name, **kwargs)\n"
          ]
        },
        {
          "output_type": "stream",
          "name": "stdout",
          "text": [
            "Epoch 1/5\n",
            "558/558 [==============================] - 288s 512ms/step - loss: 3.6949 - accuracy: 0.8985\n",
            "Epoch 2/5\n",
            "558/558 [==============================] - 269s 482ms/step - loss: 3.1575 - accuracy: 0.9992\n",
            "Epoch 3/5\n",
            "558/558 [==============================] - 270s 484ms/step - loss: 2.8956 - accuracy: 0.9996\n",
            "Epoch 4/5\n",
            "558/558 [==============================] - 275s 492ms/step - loss: 2.6537 - accuracy: 0.9998\n",
            "Epoch 5/5\n",
            "558/558 [==============================] - 278s 498ms/step - loss: 2.4259 - accuracy: 0.9998\n",
            "Accuracy: 0.9991199396530048\n",
            "f-score: 0.8372093023255813\n",
            "tn fp fn tp :(7929, 7, 0, 18)\n",
            "Epoch 1/5\n",
            "558/558 [==============================] - 276s 495ms/step - loss: 2.2205 - accuracy: 0.9997\n",
            "Epoch 2/5\n",
            "558/558 [==============================] - 271s 486ms/step - loss: 2.0454 - accuracy: 0.9999\n",
            "Epoch 3/5\n",
            "558/558 [==============================] - 265s 474ms/step - loss: 1.8853 - accuracy: 1.0000\n",
            "Epoch 4/5\n",
            "558/558 [==============================] - 260s 466ms/step - loss: 1.7344 - accuracy: 1.0000\n",
            "Epoch 5/5\n",
            "558/558 [==============================] - 259s 465ms/step - loss: 1.5911 - accuracy: 1.0000\n",
            "Accuracy: 0.998742770932864\n",
            "f-score: 0.782608695652174\n",
            "tn fp fn tp :(7926, 10, 0, 18)\n",
            "Epoch 1/5\n",
            "558/558 [==============================] - 266s 477ms/step - loss: 1.4594 - accuracy: 0.9997\n",
            "Epoch 2/5\n",
            "558/558 [==============================] - 262s 470ms/step - loss: 1.3461 - accuracy: 0.9998\n",
            "Epoch 3/5\n",
            "558/558 [==============================] - 263s 470ms/step - loss: 1.2454 - accuracy: 1.0000\n",
            "Epoch 4/5\n",
            "558/558 [==============================] - 266s 477ms/step - loss: 1.1501 - accuracy: 1.0000\n",
            "Epoch 5/5\n",
            "558/558 [==============================] - 265s 475ms/step - loss: 1.0581 - accuracy: 1.0000\n",
            "Accuracy: 0.9998742770932864\n",
            "f-score: 0.972972972972973\n",
            "tn fp fn tp :(7935, 1, 0, 18)\n",
            "Epoch 1/5\n",
            "558/558 [==============================] - 299s 535ms/step - loss: 0.9689 - accuracy: 1.0000\n",
            "Epoch 2/5\n",
            "558/558 [==============================] - 265s 476ms/step - loss: 0.8909 - accuracy: 0.9998\n",
            "Epoch 3/5\n",
            "558/558 [==============================] - 266s 477ms/step - loss: 0.8297 - accuracy: 1.0000\n",
            "Epoch 4/5\n",
            "558/558 [==============================] - 264s 474ms/step - loss: 0.7745 - accuracy: 1.0000\n",
            "Epoch 5/5\n",
            "558/558 [==============================] - 279s 500ms/step - loss: 0.7234 - accuracy: 1.0000\n",
            "Accuracy: 1.0\n",
            "f-score: 1.0\n",
            "tn fp fn tp :(7936, 0, 0, 18)\n",
            "Epoch 1/5\n",
            "558/558 [==============================] - 270s 484ms/step - loss: 0.6738 - accuracy: 1.0000\n",
            "Epoch 2/5\n",
            "558/558 [==============================] - 269s 482ms/step - loss: 0.6295 - accuracy: 0.9999\n",
            "Epoch 3/5\n",
            "558/558 [==============================] - 269s 482ms/step - loss: 0.5938 - accuracy: 0.9996\n",
            "Epoch 4/5\n",
            "558/558 [==============================] - 270s 484ms/step - loss: 0.5749 - accuracy: 0.9999\n",
            "Epoch 5/5\n",
            "558/558 [==============================] - 270s 485ms/step - loss: 0.5597 - accuracy: 1.0000\n",
            "Accuracy: 1.0\n",
            "f-score: 1.0\n",
            "tn fp fn tp :(7936, 0, 0, 18)\n",
            "Epoch 1/5\n",
            "558/558 [==============================] - 279s 499ms/step - loss: 0.5439 - accuracy: 1.0000\n",
            "Epoch 2/5\n",
            "558/558 [==============================] - 269s 482ms/step - loss: 0.5275 - accuracy: 1.0000\n",
            "Epoch 3/5\n",
            "558/558 [==============================] - 261s 468ms/step - loss: 0.5101 - accuracy: 0.9999\n",
            "Epoch 4/5\n",
            "558/558 [==============================] - 263s 471ms/step - loss: 0.4936 - accuracy: 0.9998\n",
            "Epoch 5/5\n",
            "558/558 [==============================] - 255s 458ms/step - loss: 0.4798 - accuracy: 0.9999\n",
            "Accuracy: 1.0\n",
            "f-score: 1.0\n",
            "tn fp fn tp :(7935, 0, 0, 19)\n",
            "Epoch 1/5\n",
            "558/558 [==============================] - 261s 468ms/step - loss: 0.4656 - accuracy: 1.0000\n",
            "Epoch 2/5\n",
            "558/558 [==============================] - 256s 459ms/step - loss: 0.4490 - accuracy: 1.0000\n",
            "Epoch 3/5\n",
            "558/558 [==============================] - 256s 458ms/step - loss: 0.4298 - accuracy: 1.0000\n",
            "Epoch 4/5\n",
            "558/558 [==============================] - 257s 461ms/step - loss: 0.4088 - accuracy: 1.0000\n",
            "Epoch 5/5\n",
            "558/558 [==============================] - 258s 463ms/step - loss: 0.3864 - accuracy: 0.9998\n",
            "Accuracy: 1.0\n",
            "f-score: 1.0\n",
            "tn fp fn tp :(7935, 0, 0, 18)\n",
            "Epoch 1/5\n",
            "558/558 [==============================] - 261s 468ms/step - loss: 0.3719 - accuracy: 0.9999\n",
            "Epoch 2/5\n",
            "558/558 [==============================] - 258s 463ms/step - loss: 0.3635 - accuracy: 1.0000\n",
            "Epoch 3/5\n",
            "558/558 [==============================] - 259s 464ms/step - loss: 0.3543 - accuracy: 1.0000\n",
            "Epoch 4/5\n",
            "558/558 [==============================] - 259s 464ms/step - loss: 0.3454 - accuracy: 1.0000\n",
            "Epoch 5/5\n",
            "558/558 [==============================] - 263s 471ms/step - loss: 0.3359 - accuracy: 1.0000\n",
            "Accuracy: 1.0\n",
            "f-score: 1.0\n",
            "tn fp fn tp :(7935, 0, 0, 18)\n",
            "Epoch 1/5\n",
            "558/558 [==============================] - 261s 467ms/step - loss: 0.3265 - accuracy: 0.9998\n",
            "Epoch 2/5\n",
            "558/558 [==============================] - 263s 472ms/step - loss: 0.3178 - accuracy: 0.9997\n",
            "Epoch 3/5\n",
            "558/558 [==============================] - 266s 476ms/step - loss: 0.3079 - accuracy: 1.0000\n",
            "Epoch 4/5\n",
            "558/558 [==============================] - 260s 467ms/step - loss: 0.2975 - accuracy: 1.0000\n",
            "Epoch 5/5\n",
            "558/558 [==============================] - 259s 465ms/step - loss: 0.2864 - accuracy: 0.9999\n",
            "Accuracy: 1.0\n",
            "f-score: 1.0\n",
            "tn fp fn tp :(7935, 0, 0, 18)\n",
            "Epoch 1/5\n",
            "558/558 [==============================] - 263s 472ms/step - loss: 0.2809 - accuracy: 0.9994\n",
            "Epoch 2/5\n",
            "558/558 [==============================] - 263s 471ms/step - loss: 0.2712 - accuracy: 1.0000\n",
            "Epoch 3/5\n",
            "558/558 [==============================] - 260s 466ms/step - loss: 0.2653 - accuracy: 0.9997\n",
            "Epoch 4/5\n",
            "558/558 [==============================] - 264s 474ms/step - loss: 0.2589 - accuracy: 1.0000\n",
            "Epoch 5/5\n",
            "558/558 [==============================] - 260s 465ms/step - loss: 0.2524 - accuracy: 1.0000\n",
            "Accuracy: 0.9997485225700994\n",
            "f-score: 0.9411764705882353\n",
            "tn fp fn tp :(7935, 0, 2, 16)\n"
          ]
        }
      ],
      "source": [
        "all_history=[]\n",
        "\n",
        "model =  build_model()\n",
        "for train_index, test_index in skf.split(X_total,Y_total):\n",
        "    X_train = X_total[train_index]\n",
        "    y_train = Y_total[train_index]  \n",
        "    X_test = X_total[test_index]\n",
        "    y_test = Y_total[test_index]\n",
        "\n",
        "    sm = SMOTE()\n",
        "    # smote 적용시키기 위해 2차원 배열로 변환\n",
        "    X_train=np.reshape(X_train,(len(X_train),400))\n",
        "    # smote 사용 -> 데이터 불균형 해소\n",
        "    X_train_oversampled, y_train_oversampled = sm.fit_resample(X_train, y_train)\n",
        "\n",
        "    # 다시 reshape로 3차원으로 변경\n",
        "    X_train_oversampled = np.reshape(X_train_oversampled,(len(X_train_oversampled),100,4))\n",
        "    history = model.fit(X_train_oversampled, y_train_oversampled,epochs=5, batch_size=256, verbose=1)\n",
        "    \n",
        "    all_history.append(history.history)\n",
        "    X_test = X_test.astype('float32')\n",
        "    y_pred = model.predict(X_test)\n",
        "    y_pred_binary = np.around(y_pred)\n",
        "    \n",
        "    acc = accuracy_score(y_test, y_pred_binary)\n",
        "    \n",
        "    f1=f1_score(y_test, y_pred_binary)\n",
        "    \n",
        "    tn, fp, fn, tp = confusion_matrix(y_test, y_pred_binary).ravel()\n",
        "    \n",
        "    print(f'Accuracy: {acc}')\n",
        "    print(f'f-score: {f1}')\n",
        "    print(f'tn fp fn tp :{tn, fp, fn, tp}')"
      ],
      "id": "OnyEVRFaGujs"
    },
    {
      "cell_type": "code",
      "execution_count": 54,
      "metadata": {
        "id": "65jDe3A-Gujs",
        "colab": {
          "base_uri": "https://localhost:8080/",
          "height": 1000
        },
        "outputId": "dcee6325-e73b-42bf-bf60-7e049d4b59e5"
      },
      "outputs": [
        {
          "output_type": "display_data",
          "data": {
            "text/plain": [
              "<Figure size 432x288 with 1 Axes>"
            ],
            "image/png": "[encoded data removed]"
          },
          "metadata": {
            "needs_background": "light"
          }
        },
        {
          "output_type": "display_data",
          "data": {
            "text/plain": [
              "<Figure size 432x288 with 1 Axes>"
            ],
            "image/png": "[encoded data removed]"
          },
          "metadata": {
            "needs_background": "light"
          }
        },
        {
          "output_type": "display_data",
          "data": {
            "text/plain": [
              "<Figure size 432x288 with 1 Axes>"
            ],
            "image/png": "[encoded data removed]"
          },
          "metadata": {
            "needs_background": "light"
          }
        },
        {
          "output_type": "display_data",
          "data": {
            "text/plain": [
              "<Figure size 432x288 with 1 Axes>"
            ],
            "image/png": "[encoded data removed]"
          },
          "metadata": {
            "needs_background": "light"
          }
        },
        {
          "output_type": "display_data",
          "data": {
            "text/plain": [
              "<Figure size 432x288 with 1 Axes>"
            ],
            "image/png": "[encoded data removed]"
          },
          "metadata": {
            "needs_background": "light"
          }
        },
        {
          "output_type": "display_data",
          "data": {
            "text/plain": [
              "<Figure size 432x288 with 1 Axes>"
            ],
            "image/png": "[encoded data removed]"
          },
          "metadata": {
            "needs_background": "light"
          }
        },
        {
          "output_type": "display_data",
          "data": {
            "text/plain": [
              "<Figure size 432x288 with 1 Axes>"
            ],
            "image/png": "[encoded data removed]"
          },
          "metadata": {
            "needs_background": "light"
          }
        },
        {
          "output_type": "display_data",
          "data": {
            "text/plain": [
              "<Figure size 432x288 with 1 Axes>"
            ],
            "image/png": "[encoded data removed]"
          },
          "metadata": {
            "needs_background": "light"
          }
        },
        {
          "output_type": "display_data",
          "data": {
            "text/plain": [
              "<Figure size 432x288 with 1 Axes>"
            ],
            "image/png": "[encoded data removed]"
          },
          "metadata": {
            "needs_background": "light"
          }
        },
        {
          "output_type": "display_data",
          "data": {
            "text/plain": [
              "<Figure size 432x288 with 1 Axes>"
            ],
            "image/png": "[encoded data removed]"
          },
          "metadata": {
            "needs_background": "light"
          }
        }
      ],
      "source": [
        "for i in range(10):\n",
        "    loss =all_history[i]['loss']\n",
        "    #val_loss = all_history[i]['val_loss']\n",
        "    epochs = range(1, len(loss) + 1)\n",
        "    plt.plot(epochs, loss, 'bo', label='Training loss')  # ‘bo’는 파란색 점을 의미합니다.\n",
        "    #plt.plot(epochs, val_loss, 'b', label='Validation loss') # ‘b’는 파란색 실선을 의미합니다.\n",
        "    plt.title('Training and validation loss')\n",
        "    plt.xlabel('Epochs')\n",
        "    plt.ylabel('Loss')\n",
        "    plt.legend()\n",
        "    plt.show()"
      ],
      "id": "65jDe3A-Gujs"
    },
    {
      "cell_type": "markdown",
      "source": [
        "테스트 데이터 로드"
      ],
      "metadata": {
        "id": "iMbSREHy1ro6"
      },
      "id": "iMbSREHy1ro6"
    },
    {
      "cell_type": "code",
      "source": [
        "test_path = \"/content/drive/MyDrive/information_system/test/\"\n",
        "test_data=pd.read_csv(test_path+'network_test_dataset.csv',error_bad_lines=False)"
      ],
      "metadata": {
        "id": "Tgw_Qbwh1rNU",
        "outputId": "c0c4cd9f-95f9-4cf0-8d4d-48fd44590ce0",
        "colab": {
          "base_uri": "https://localhost:8080/"
        }
      },
      "id": "Tgw_Qbwh1rNU",
      "execution_count": 55,
      "outputs": [
        {
          "output_type": "stream",
          "name": "stderr",
          "text": [
            "b'Skipping line 1000426: expected 22 fields, saw 23\\n'\n",
            "b'Skipping line 1279004: expected 22 fields, saw 23\\n'\n",
            "b'Skipping line 3023273: expected 22 fields, saw 27\\n'\n",
            "b'Skipping line 3074890: expected 22 fields, saw 27\\n'\n",
            "b'Skipping line 3460738: expected 22 fields, saw 23\\n'\n"
          ]
        }
      ]
    },
    {
      "cell_type": "markdown",
      "source": [
        "테스트 데이터 전처리"
      ],
      "metadata": {
        "id": "OSnWyUaKvTwn"
      },
      "id": "OSnWyUaKvTwn"
    },
    {
      "cell_type": "code",
      "source": [
        "test_data=test_data.iloc[:,0:9]\n",
        "test_data.columns=['_ws.col.UTCtime',\"_ws.col.Protocol\",\"ip.src\",\"ip.dst\",\"tcp.srcport\",\"tcp.dstport\",\"tcp.len\",\"tcp.seq\",\"tcp.ack\"]\n",
        "test_data=test_data.sort_values(by='_ws.col.UTCtime')\n",
        "test_data['_ws.col.UTCtime']=pd.to_datetime(test_data['_ws.col.UTCtime'])\n",
        "test_data['_ws.col.UTCtime']=test_data['_ws.col.UTCtime'].astype(np.int64)// 10**9\n",
        "test_data['_ws.col.UTCtime']=test_data['_ws.col.UTCtime']-test_data.iloc[0,0]\n",
        "\n",
        "#결측값 삭제\n",
        "test_data= test_data.dropna(axis=0)\n",
        "\n",
        "#속성값 타입을 설정\n",
        "test_data=test_data.astype({\"_ws.col.UTCtime\":'int','tcp.srcport': 'int','tcp.dstport': 'int','tcp.len': 'int','tcp.seq':'int','tcp.ack': 'int'})"
      ],
      "metadata": {
        "id": "Wy6_PO552UEM",
        "outputId": "cece29a5-bcfe-43c2-fa14-b0948132e4f1",
        "colab": {
          "base_uri": "https://localhost:8080/"
        }
      },
      "id": "Wy6_PO552UEM",
      "execution_count": 56,
      "outputs": [
        {
          "output_type": "stream",
          "name": "stderr",
          "text": [
            "/usr/local/lib/python3.7/dist-packages/ipykernel_launcher.py:5: FutureWarning: casting datetime64[ns] values to int64 with .astype(...) is deprecated and will raise in a future version. Use .view(...) instead.\n",
            "  \"\"\"\n"
          ]
        }
      ]
    },
    {
      "cell_type": "markdown",
      "source": [
        "훈련 데이터와 동일하게 테스트 데이터를 그룹화"
      ],
      "metadata": {
        "id": "3xGQM-bqzu0l"
      },
      "id": "3xGQM-bqzu0l"
    },
    {
      "cell_type": "code",
      "source": [
        "groupset=[]\n",
        "over_100_group=[]\n",
        "gb = test_data.groupby(['_ws.col.Protocol','ip.src','ip.dst','tcp.srcport'])\n",
        "for key, group in gb:\n",
        "    group = np.asarray(group)\n",
        "    if len(group)>100:\n",
        "        over_100_group.append(group)\n",
        "    else :\n",
        "        groupset.append(group)"
      ],
      "metadata": {
        "id": "ldp3C1se26UK"
      },
      "id": "ldp3C1se26UK",
      "execution_count": 57,
      "outputs": []
    },
    {
      "cell_type": "code",
      "source": [
        "for i in range(len(over_100_group)):\n",
        "    for j in range(0,len(over_100_group[i]),100):\n",
        "        groupset.append(over_100_group[i][j:j+100])"
      ],
      "metadata": {
        "id": "LKv3GEyY2_lJ"
      },
      "id": "LKv3GEyY2_lJ",
      "execution_count": 58,
      "outputs": []
    },
    {
      "cell_type": "markdown",
      "source": [
        "100개 미만인 경우 패딩 처리"
      ],
      "metadata": {
        "id": "-AT4Mh96zz78"
      },
      "id": "-AT4Mh96zz78"
    },
    {
      "cell_type": "code",
      "source": [
        "for i in range(len(groupset)):\n",
        "    groupset[i][:,0]=groupset[i][:,0]-groupset[i][0][0]"
      ],
      "metadata": {
        "id": "HgKe-SFb3Bb6"
      },
      "id": "HgKe-SFb3Bb6",
      "execution_count": 59,
      "outputs": []
    },
    {
      "cell_type": "code",
      "source": [
        "X=[]\n",
        "for i in range(len(groupset)):\n",
        "    temp=np.delete(groupset[i],[1,2,3,4,5],1)\n",
        "    num=100-len(temp)\n",
        "    X.append(np.pad(temp,((0,num),(0,0)),'constant', constant_values=-1))"
      ],
      "metadata": {
        "id": "feP0NApH3Cbb"
      },
      "id": "feP0NApH3Cbb",
      "execution_count": 60,
      "outputs": []
    },
    {
      "cell_type": "markdown",
      "source": [
        "테스트세트 예측"
      ],
      "metadata": {
        "id": "UEhpIHR4vet6"
      },
      "id": "UEhpIHR4vet6"
    },
    {
      "cell_type": "code",
      "source": [
        "X_data=np.asarray(X)\n",
        "X_data=X_data.astype('float32')\n",
        "predict = model.predict(X_data)\n",
        "print(X_data.shape, predict.shape)\n",
        "y_pred_binary=np.around(predict)"
      ],
      "metadata": {
        "id": "uaIWKgQV3Dox",
        "outputId": "ddb2d515-3d88-4116-da5a-f0b8c39ad833",
        "colab": {
          "base_uri": "https://localhost:8080/"
        }
      },
      "id": "uaIWKgQV3Dox",
      "execution_count": 61,
      "outputs": [
        {
          "output_type": "stream",
          "name": "stdout",
          "text": [
            "(217221, 100, 4) (217221, 1)\n"
          ]
        }
      ]
    },
    {
      "cell_type": "markdown",
      "source": [
        "Attack 데이터로 분류된 데이터를 리스트에 추가"
      ],
      "metadata": {
        "id": "i9gPQNZ108Ub"
      },
      "id": "i9gPQNZ108Ub"
    },
    {
      "cell_type": "code",
      "source": [
        "pred_attack_ix=[]\n",
        "for i in range(len(y_pred_binary)):\n",
        "    if y_pred_binary[i]==1:\n",
        "        pred_attack_ix.append(i)\n",
        "print(len(pred_attack_ix))"
      ],
      "metadata": {
        "id": "o_ms2M9N3i0H",
        "outputId": "0b6f7806-9fcd-421f-be24-d552459af1a3",
        "colab": {
          "base_uri": "https://localhost:8080/"
        }
      },
      "id": "o_ms2M9N3i0H",
      "execution_count": 62,
      "outputs": [
        {
          "output_type": "stream",
          "name": "stdout",
          "text": [
            "85\n"
          ]
        }
      ]
    },
    {
      "cell_type": "markdown",
      "source": [
        "csv 파일로 저장"
      ],
      "metadata": {
        "id": "XpvmX8a-vftt"
      },
      "id": "XpvmX8a-vftt"
    },
    {
      "cell_type": "code",
      "source": [
        "import csv\n",
        "f = open('network.csv','w', newline='')\n",
        "wr = csv.writer(f)"
      ],
      "metadata": {
        "id": "b9EYAWa83zb8"
      },
      "id": "b9EYAWa83zb8",
      "execution_count": 63,
      "outputs": []
    },
    {
      "cell_type": "markdown",
      "source": [
        "Attack 데이터 리스트에 있는 정보 출력하기"
      ],
      "metadata": {
        "id": "qqdOGBeO32Zl"
      },
      "id": "qqdOGBeO32Zl"
    },
    {
      "cell_type": "code",
      "source": [
        "wr.writerow([\"Source IP\", \"Destination IP\", \"Source Port\", \"Destination Port\", \"Protocol\"])\n",
        "for index in pred_attack_ix:\n",
        "    for i in range(len(groupset[index])):\n",
        "        wr.writerow([groupset[index][i][2],groupset[index][i][3],groupset[index][i][4],groupset[index][i][5],groupset[index][i][1]])\n"
      ],
      "metadata": {
        "id": "STd1watj31Xo"
      },
      "id": "STd1watj31Xo",
      "execution_count": 64,
      "outputs": []
    },
    {
      "cell_type": "code",
      "source": [
        "f.close()"
      ],
      "metadata": {
        "id": "IVJV4O4032Zi"
      },
      "id": "IVJV4O4032Zi",
      "execution_count": 65,
      "outputs": []
    }
  ],
  "metadata": {
    "colab": {
      "provenance": [],
      "include_colab_link": true
    },
    "kernelspec": {
      "display_name": "test",
      "language": "python",
      "name": "test"
    },
    "language_info": {
      "codemirror_mode": {
        "name": "ipython",
        "version": 3
      },
      "file_extension": ".py",
      "mimetype": "text/x-python",
      "name": "python",
      "nbconvert_exporter": "python",
      "pygments_lexer": "ipython3",
      "version": "3.7.9"
    }
  },
  "nbformat": 4,
  "nbformat_minor": 5
}