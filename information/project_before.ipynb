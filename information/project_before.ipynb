{
  "cells": [
    {
      "cell_type": "code",
      "execution_count": 1,
      "metadata": {
        "id": "RBGTLicDGujk"
      },
      "outputs": [],
      "source": [
        "from sklearn.model_selection import KFold\n",
        "from sklearn.model_selection import StratifiedKFold\n",
        "from imblearn.over_sampling import SMOTE\n",
        "from sklearn.metrics import f1_score"
      ],
      "id": "RBGTLicDGujk"
    },
    {
      "cell_type": "code",
      "execution_count": 2,
      "metadata": {
        "id": "fDYwlk_LGujk",
        "outputId": "3985297c-5ea7-4075-f2af-0dc87fd3ec50",
        "colab": {
          "base_uri": "https://localhost:8080/"
        }
      },
      "outputs": [
        {
          "output_type": "stream",
          "name": "stdout",
          "text": [
            "Looking in indexes: https://pypi.org/simple, https://us-python.pkg.dev/colab-wheels/public/simple/\n",
            "Requirement already satisfied: import_ipynb in /usr/local/lib/python3.7/dist-packages (0.1.4)\n",
            "Requirement already satisfied: IPython in /usr/local/lib/python3.7/dist-packages (from import_ipynb) (7.9.0)\n",
            "Requirement already satisfied: nbformat in /usr/local/lib/python3.7/dist-packages (from import_ipynb) (5.4.0)\n",
            "Requirement already satisfied: decorator in /usr/local/lib/python3.7/dist-packages (from IPython->import_ipynb) (4.4.2)\n",
            "Requirement already satisfied: prompt-toolkit<2.1.0,>=2.0.0 in /usr/local/lib/python3.7/dist-packages (from IPython->import_ipynb) (2.0.10)\n",
            "Requirement already satisfied: pexpect in /usr/local/lib/python3.7/dist-packages (from IPython->import_ipynb) (4.8.0)\n",
            "Requirement already satisfied: pickleshare in /usr/local/lib/python3.7/dist-packages (from IPython->import_ipynb) (0.7.5)\n",
            "Requirement already satisfied: pygments in /usr/local/lib/python3.7/dist-packages (from IPython->import_ipynb) (2.6.1)\n",
            "Requirement already satisfied: jedi>=0.10 in /usr/local/lib/python3.7/dist-packages (from IPython->import_ipynb) (0.18.1)\n",
            "Requirement already satisfied: backcall in /usr/local/lib/python3.7/dist-packages (from IPython->import_ipynb) (0.2.0)\n",
            "Requirement already satisfied: setuptools>=18.5 in /usr/local/lib/python3.7/dist-packages (from IPython->import_ipynb) (57.4.0)\n",
            "Requirement already satisfied: traitlets>=4.2 in /usr/local/lib/python3.7/dist-packages (from IPython->import_ipynb) (5.1.1)\n",
            "Requirement already satisfied: parso<0.9.0,>=0.8.0 in /usr/local/lib/python3.7/dist-packages (from jedi>=0.10->IPython->import_ipynb) (0.8.3)\n",
            "Requirement already satisfied: six>=1.9.0 in /usr/local/lib/python3.7/dist-packages (from prompt-toolkit<2.1.0,>=2.0.0->IPython->import_ipynb) (1.15.0)\n",
            "Requirement already satisfied: wcwidth in /usr/local/lib/python3.7/dist-packages (from prompt-toolkit<2.1.0,>=2.0.0->IPython->import_ipynb) (0.2.5)\n",
            "Requirement already satisfied: fastjsonschema in /usr/local/lib/python3.7/dist-packages (from nbformat->import_ipynb) (2.16.1)\n",
            "Requirement already satisfied: jupyter-core in /usr/local/lib/python3.7/dist-packages (from nbformat->import_ipynb) (4.11.1)\n",
            "Requirement already satisfied: jsonschema>=2.6 in /usr/local/lib/python3.7/dist-packages (from nbformat->import_ipynb) (4.3.3)\n",
            "Requirement already satisfied: importlib-metadata in /usr/local/lib/python3.7/dist-packages (from jsonschema>=2.6->nbformat->import_ipynb) (4.12.0)\n",
            "Requirement already satisfied: typing-extensions in /usr/local/lib/python3.7/dist-packages (from jsonschema>=2.6->nbformat->import_ipynb) (4.1.1)\n",
            "Requirement already satisfied: attrs>=17.4.0 in /usr/local/lib/python3.7/dist-packages (from jsonschema>=2.6->nbformat->import_ipynb) (22.1.0)\n",
            "Requirement already satisfied: importlib-resources>=1.4.0 in /usr/local/lib/python3.7/dist-packages (from jsonschema>=2.6->nbformat->import_ipynb) (5.9.0)\n",
            "Requirement already satisfied: pyrsistent!=0.17.0,!=0.17.1,!=0.17.2,>=0.14.0 in /usr/local/lib/python3.7/dist-packages (from jsonschema>=2.6->nbformat->import_ipynb) (0.18.1)\n",
            "Requirement already satisfied: zipp>=3.1.0 in /usr/local/lib/python3.7/dist-packages (from importlib-resources>=1.4.0->jsonschema>=2.6->nbformat->import_ipynb) (3.8.1)\n",
            "Requirement already satisfied: ptyprocess>=0.5 in /usr/local/lib/python3.7/dist-packages (from pexpect->IPython->import_ipynb) (0.7.0)\n"
          ]
        }
      ],
      "source": [
        "import numpy as np\n",
        "import pandas as pd\n",
        "import matplotlib.pyplot as plt\n",
        "!pip install import_ipynb\n",
        "import import_ipynb"
      ],
      "id": "fDYwlk_LGujk"
    },
    {
      "cell_type": "code",
      "execution_count": 3,
      "metadata": {
        "id": "Wabx1ISIGujk"
      },
      "outputs": [],
      "source": [
        "from sklearn.model_selection import train_test_split\n",
        "from tensorflow.keras.models import Sequential, load_model, save_model\n",
        "from tensorflow.keras.layers import LSTM, Dense, RepeatVector, Masking, Bidirectional,Conv1D, MaxPooling1D\n",
        "import tensorflow as tf\n",
        "from sklearn.preprocessing import StandardScaler\n",
        "\n"
      ],
      "id": "Wabx1ISIGujk"
    },
    {
      "cell_type": "markdown",
      "metadata": {
        "id": "oE_qUW51Gujl"
      },
      "source": [
        "<h1> normal data</h1>"
      ],
      "id": "oE_qUW51Gujl"
    },
    {
      "cell_type": "code",
      "source": [
        "from google.colab import drive\n",
        "drive.mount('/content/drive')#구글 드라이브와 mount"
      ],
      "metadata": {
        "id": "Rmi2QD3VLoaT",
        "outputId": "f10d3481-f156-4d00-fe72-58e044b7ac6c",
        "colab": {
          "base_uri": "https://localhost:8080/"
        }
      },
      "id": "Rmi2QD3VLoaT",
      "execution_count": 4,
      "outputs": [
        {
          "output_type": "stream",
          "name": "stdout",
          "text": [
            "Drive already mounted at /content/drive; to attempt to forcibly remount, call drive.mount(\"/content/drive\", force_remount=True).\n"
          ]
        }
      ]
    },
    {
      "cell_type": "code",
      "source": [
        "import numpy as np\n",
        "import pandas as pd\n",
        "import matplotlib.pyplot as plt\n",
        "\n",
        "normal_path = \"/content/drive/MyDrive/information_system/normal/\"\n",
        "malicious_path = \"/content/drive/MyDrive/information_system/malicious/\"\n",
        "\n",
        "normal=[]\n",
        "for i in range(5):\n",
        "    normal.append(pd.read_csv(normal_path+'network_benign_training_set_'+str(i).zfill(2)+'.csv',error_bad_lines=False))\n",
        "attack=pd.read_csv(malicious_path+'network_malicious_training_set.csv',error_bad_lines=False)"
      ],
      "metadata": {
        "id": "f88wutqHNEkc",
        "outputId": "62d5ea28-8a7a-46ab-ba4b-1642fecb117a",
        "colab": {
          "base_uri": "https://localhost:8080/"
        }
      },
      "id": "f88wutqHNEkc",
      "execution_count": 5,
      "outputs": [
        {
          "output_type": "stream",
          "name": "stderr",
          "text": [
            "/usr/local/lib/python3.7/dist-packages/IPython/core/interactiveshell.py:3326: FutureWarning: The error_bad_lines argument has been deprecated and will be removed in a future version.\n",
            "\n",
            "\n",
            "  exec(code_obj, self.user_global_ns, self.user_ns)\n",
            "/usr/local/lib/python3.7/dist-packages/IPython/core/interactiveshell.py:3326: DtypeWarning: Columns (12,13,14,15,16,18,19,21) have mixed types.Specify dtype option on import or set low_memory=False.\n",
            "  exec(code_obj, self.user_global_ns, self.user_ns)\n"
          ]
        }
      ]
    },
    {
      "cell_type": "markdown",
      "source": [
        "Time 속성 전처리"
      ],
      "metadata": {
        "id": "q3_TEVIyNpum"
      },
      "id": "q3_TEVIyNpum"
    },
    {
      "cell_type": "code",
      "source": [
        "import datetime\n",
        "for i in range(5):\n",
        "  normal[i]['_ws.col.UTCtime']=pd.to_datetime(normal[i]['_ws.col.UTCtime'])\n",
        "  normal[i]['_ws.col.UTCtime']=normal[i]['_ws.col.UTCtime'].astype(np.int64)//10**9\n",
        "  normal[i]['_ws.col.UTCtime']=normal[i]['_ws.col.UTCtime']-normal[i].iloc[0,0]\n",
        "  normal[i]=normal[i].loc[:,\"_ws.col.UTCtime\":\"tcp.ack\"]\n",
        "  normal[i]=normal[i].dropna(axis=0)\n",
        "  normal[i]\n",
        "  normal[i].to_csv(\"normal\"+str(i)+\".csv\",mode='w',index=False)"
      ],
      "metadata": {
        "id": "S_cw5BwWNpk9",
        "outputId": "7dfc9db7-f1d8-4eb4-f16f-9dc337e33e93",
        "colab": {
          "base_uri": "https://localhost:8080/"
        }
      },
      "id": "S_cw5BwWNpk9",
      "execution_count": 7,
      "outputs": [
        {
          "output_type": "stream",
          "name": "stderr",
          "text": [
            "/usr/local/lib/python3.7/dist-packages/ipykernel_launcher.py:4: FutureWarning: casting datetime64[ns] values to int64 with .astype(...) is deprecated and will raise in a future version. Use .view(...) instead.\n",
            "  after removing the cwd from sys.path.\n"
          ]
        }
      ]
    },
    {
      "cell_type": "code",
      "source": [
        "attack['_ws.col.UTCtime']=pd.to_datetime(attack['_ws.col.UTCtime'])\n",
        "attack['_ws.col.UTCtime']=attack['_ws.col.UTCtime'].astype(np.int64)//10**9\n",
        "attack['_ws.col.UTCtime']=attack['_ws.col.UTCtime']-attack.iloc[0,0]\n",
        "attack=attack.loc[:,\"_ws.col.UTCtime\":\"tcp.ack\"]\n",
        "attack=attack.dropna(axis=0)\n",
        "attack\n",
        "attack.to_csv(\"attack\"+str(i)+\".csv\",mode='w',index=False)"
      ],
      "metadata": {
        "id": "UQm_UpW_UVD3",
        "outputId": "b544c578-ab8b-4405-e469-613d9882ff4e",
        "colab": {
          "base_uri": "https://localhost:8080/"
        }
      },
      "id": "UQm_UpW_UVD3",
      "execution_count": 8,
      "outputs": [
        {
          "output_type": "stream",
          "name": "stderr",
          "text": [
            "/usr/local/lib/python3.7/dist-packages/ipykernel_launcher.py:2: FutureWarning: casting datetime64[ns] values to int64 with .astype(...) is deprecated and will raise in a future version. Use .view(...) instead.\n",
            "  \n"
          ]
        }
      ]
    },
    {
      "cell_type": "code",
      "source": [
        "for i in range(len(normal)):\n",
        "    normal[i]=normal[i].astype({\"_ws.col.UTCtime\":'int','tcp.srcport': 'int','tcp.dstport': 'int','tcp.len': 'int','tcp.seq':'int','tcp.ack': 'int'})\n",
        "attack=attack.astype({\"_ws.col.UTCtime\":'int','tcp.srcport': 'int','tcp.dstport': 'int','tcp.len': 'int','tcp.seq':'int','tcp.ack': 'int'})"
      ],
      "metadata": {
        "id": "TlElcwyvIKFY"
      },
      "id": "TlElcwyvIKFY",
      "execution_count": 9,
      "outputs": []
    },
    {
      "cell_type": "code",
      "execution_count": 10,
      "metadata": {
        "id": "qFkRidIaGujn"
      },
      "outputs": [],
      "source": [
        "#normal data를 그룹핑하고 100개가 넘는 그룹을 골라내기\n",
        "groupset=[]\n",
        "over_100_group=[]\n",
        "for i in range(len(normal)):\n",
        "    gb = normal[i].groupby(['_ws.col.Protocol','ip.src','ip.dst','tcp.srcport'])\n",
        "    for key, group in gb:\n",
        "        group = np.asarray(group)\n",
        "        if len(group)>100:\n",
        "            over_100_group.append(group)\n",
        "        else :\n",
        "            groupset.append(group)"
      ],
      "id": "qFkRidIaGujn"
    },
    {
      "cell_type": "code",
      "execution_count": 11,
      "metadata": {
        "id": "E-tZtC3IGujn"
      },
      "outputs": [],
      "source": [
        "for i in range(len(normal)):\n",
        "    gb = normal[i].groupby(['_ws.col.Protocol','ip.src','ip.dst','tcp.dstport'])\n",
        "    for key, group in gb:\n",
        "        group = np.asarray(group)\n",
        "        if len(group)>100:\n",
        "            over_100_group.append(group)\n",
        "        else :\n",
        "            groupset.append(group)"
      ],
      "id": "E-tZtC3IGujn"
    },
    {
      "cell_type": "code",
      "execution_count": 12,
      "metadata": {
        "id": "agPD6mDOGujo"
      },
      "outputs": [],
      "source": [
        "#normal data 100개가 넘는 그룹 100개씩 잘라서 그룹셋에 넣기\n",
        "for i in range(len(over_100_group)):\n",
        "    for j in range(0,len(over_100_group[i]),100):\n",
        "        groupset.append(over_100_group[i][j:j+100])"
      ],
      "id": "agPD6mDOGujo"
    },
    {
      "cell_type": "code",
      "execution_count": 13,
      "metadata": {
        "id": "ae7MdCC5Gujo",
        "outputId": "10475c1d-b185-45fa-b24c-1940832add5b",
        "colab": {
          "base_uri": "https://localhost:8080/"
        }
      },
      "outputs": [
        {
          "output_type": "execute_result",
          "data": {
            "text/plain": [
              "154492"
            ]
          },
          "metadata": {},
          "execution_count": 13
        }
      ],
      "source": [
        "len(groupset)"
      ],
      "id": "ae7MdCC5Gujo"
    },
    {
      "cell_type": "code",
      "execution_count": 14,
      "metadata": {
        "id": "VFJUdFIKGujo"
      },
      "outputs": [],
      "source": [
        "for i in range(len(groupset)):\n",
        "    groupset[i][:,0]=groupset[i][:,0]-groupset[i][0][0]"
      ],
      "id": "VFJUdFIKGujo"
    },
    {
      "cell_type": "code",
      "execution_count": 15,
      "metadata": {
        "id": "oNTIblPLGujp"
      },
      "outputs": [],
      "source": [
        "#100개가 넘는것은 없는지 확인\n",
        "for i in range(len(groupset)):\n",
        "    if len(groupset[i])>100:\n",
        "        print(i)"
      ],
      "id": "oNTIblPLGujp"
    },
    {
      "cell_type": "code",
      "execution_count": 16,
      "metadata": {
        "id": "ufyloJ9AGujp"
      },
      "outputs": [],
      "source": [
        "X=[]\n",
        "for i in range(len(groupset)):\n",
        "    temp=np.delete(groupset[i],[1,2,3,4,5],1)\n",
        "    num=100-len(temp)\n",
        "    X.append(np.pad(temp,((0,num),(0,0)),'constant', constant_values=-1))"
      ],
      "id": "ufyloJ9AGujp"
    },
    {
      "cell_type": "code",
      "execution_count": 17,
      "metadata": {
        "id": "LqB0dhxsGujp"
      },
      "outputs": [],
      "source": [
        "X_data=np.asarray(X)"
      ],
      "id": "LqB0dhxsGujp"
    },
    {
      "cell_type": "code",
      "execution_count": 18,
      "metadata": {
        "id": "cxgPkjZLGujp",
        "outputId": "6d545089-bacd-4440-c4b1-c93253c9ac6c",
        "colab": {
          "base_uri": "https://localhost:8080/"
        }
      },
      "outputs": [
        {
          "output_type": "execute_result",
          "data": {
            "text/plain": [
              "154492"
            ]
          },
          "metadata": {},
          "execution_count": 18
        }
      ],
      "source": [
        "len(X_data)"
      ],
      "id": "cxgPkjZLGujp"
    },
    {
      "cell_type": "code",
      "execution_count": 19,
      "metadata": {
        "id": "UkOYcdXxGujp"
      },
      "outputs": [],
      "source": [
        "Y_data=[]\n",
        "for i in range(len(X_data)):\n",
        "    Y_data.append(0)"
      ],
      "id": "UkOYcdXxGujp"
    },
    {
      "cell_type": "code",
      "execution_count": 20,
      "metadata": {
        "id": "R1g0dQRaGujp",
        "outputId": "d4fcf525-372a-408a-aad6-723e0e9e5c75",
        "colab": {
          "base_uri": "https://localhost:8080/"
        }
      },
      "outputs": [
        {
          "output_type": "execute_result",
          "data": {
            "text/plain": [
              "154492"
            ]
          },
          "metadata": {},
          "execution_count": 20
        }
      ],
      "source": [
        "len(Y_data)"
      ],
      "id": "R1g0dQRaGujp"
    },
    {
      "cell_type": "code",
      "execution_count": 21,
      "metadata": {
        "id": "jFgiCHIlGujp",
        "outputId": "f36257a0-fd21-4197-82e1-df4d22606b52",
        "colab": {
          "base_uri": "https://localhost:8080/"
        }
      },
      "outputs": [
        {
          "output_type": "execute_result",
          "data": {
            "text/plain": [
              "(154492, 100, 4)"
            ]
          },
          "metadata": {},
          "execution_count": 21
        }
      ],
      "source": [
        "X_data.shape"
      ],
      "id": "jFgiCHIlGujp"
    },
    {
      "cell_type": "markdown",
      "metadata": {
        "id": "tc9on7wxGujq"
      },
      "source": [
        "공격데이터"
      ],
      "id": "tc9on7wxGujq"
    },
    {
      "cell_type": "code",
      "execution_count": 22,
      "metadata": {
        "id": "QGqNeQebGujq"
      },
      "outputs": [],
      "source": [
        "groupset_a=[]\n",
        "over_100_group_a=[]\n",
        "gb = attack.groupby(['_ws.col.Protocol','ip.src','ip.dst','tcp.srcport'])\n",
        "for key, group in gb:\n",
        "    group = np.asarray(group)\n",
        "    if len(group)>100:\n",
        "        over_100_group_a.append(group)\n",
        "    else :\n",
        "        groupset_a.append(group)\n"
      ],
      "id": "QGqNeQebGujq"
    },
    {
      "cell_type": "code",
      "execution_count": 23,
      "metadata": {
        "id": "bknVr3NtGujq"
      },
      "outputs": [],
      "source": [
        "gb = attack.groupby(['_ws.col.Protocol','ip.src','ip.dst','tcp.dstport'])\n",
        "for key, group in gb:\n",
        "    group = np.asarray(group)\n",
        "    if len(group)>100:\n",
        "        over_100_group_a.append(group)\n",
        "    else :\n",
        "        groupset_a.append(group)\n"
      ],
      "id": "bknVr3NtGujq"
    },
    {
      "cell_type": "code",
      "execution_count": 24,
      "metadata": {
        "id": "Mj-aZB5YGujq"
      },
      "outputs": [],
      "source": [
        "for i in range(len(over_100_group_a)):\n",
        "    for j in range(0,len(over_100_group_a[i]),100):\n",
        "        groupset_a.append(over_100_group_a[i][j:j+100])"
      ],
      "id": "Mj-aZB5YGujq"
    },
    {
      "cell_type": "code",
      "execution_count": 25,
      "metadata": {
        "id": "RWSVLLQ2Gujq"
      },
      "outputs": [],
      "source": [
        "for i in range(len(groupset_a)):\n",
        "    groupset_a[i][:,0]=groupset_a[i][:,0]-groupset_a[i][0][0]"
      ],
      "id": "RWSVLLQ2Gujq"
    },
    {
      "cell_type": "code",
      "execution_count": 26,
      "metadata": {
        "id": "UhvKUkE0Gujq"
      },
      "outputs": [],
      "source": [
        "X_a=[]\n",
        "for i in range(len(groupset_a)):\n",
        "    temp=np.delete(groupset_a[i],[1,2,3,4,5],1)\n",
        "    num=100-len(temp)\n",
        "    X_a.append(np.pad(temp,((0,num),(0,0)),'constant', constant_values=-1))"
      ],
      "id": "UhvKUkE0Gujq"
    },
    {
      "cell_type": "code",
      "execution_count": 27,
      "metadata": {
        "id": "PT2CQmN-Gujq"
      },
      "outputs": [],
      "source": [
        "Y_a=[]\n",
        "for i in range(len(X_a)):\n",
        "    Y_a.append(1)"
      ],
      "id": "PT2CQmN-Gujq"
    },
    {
      "cell_type": "code",
      "execution_count": 28,
      "metadata": {
        "id": "OBLq3qzcGujq"
      },
      "outputs": [],
      "source": [
        "X_attack_data=np.asarray(X_a)\n",
        "Y_attack_data=np.asarray(Y_a)"
      ],
      "id": "OBLq3qzcGujq"
    },
    {
      "cell_type": "code",
      "execution_count": 29,
      "metadata": {
        "id": "Ch91wFzeGujr"
      },
      "outputs": [],
      "source": [
        "X_total=np.concatenate((X_data,X_attack_data), axis=0)\n",
        "#index : 0~891936 까지 normal, 총 891937"
      ],
      "id": "Ch91wFzeGujr"
    },
    {
      "cell_type": "code",
      "execution_count": 30,
      "metadata": {
        "id": "a4o9R8wfGujr",
        "outputId": "31bc53e5-20a4-49b2-ead3-4e52bb560edb",
        "colab": {
          "base_uri": "https://localhost:8080/"
        }
      },
      "outputs": [
        {
          "output_type": "execute_result",
          "data": {
            "text/plain": [
              "(154851, 100, 4)"
            ]
          },
          "metadata": {},
          "execution_count": 30
        }
      ],
      "source": [
        "X_total.shape"
      ],
      "id": "a4o9R8wfGujr"
    },
    {
      "cell_type": "code",
      "execution_count": 31,
      "metadata": {
        "id": "xT6ph85OGujr"
      },
      "outputs": [],
      "source": [
        "Y_total=np.concatenate((Y_data,Y_attack_data), axis=0)"
      ],
      "id": "xT6ph85OGujr"
    },
    {
      "cell_type": "code",
      "execution_count": 32,
      "metadata": {
        "id": "JUWONoeXGujr",
        "outputId": "7701626c-1b4c-4c16-85a1-5b2a9baab0cc",
        "colab": {
          "base_uri": "https://localhost:8080/"
        }
      },
      "outputs": [
        {
          "output_type": "execute_result",
          "data": {
            "text/plain": [
              "(154851,)"
            ]
          },
          "metadata": {},
          "execution_count": 32
        }
      ],
      "source": [
        "Y_total.shape"
      ],
      "id": "JUWONoeXGujr"
    },
    {
      "cell_type": "code",
      "execution_count": 33,
      "metadata": {
        "id": "Hrd0wLCQGujr"
      },
      "outputs": [],
      "source": [
        "# Conv1d 모델을 이용해 특징 맵 추출 후 가중치 부여, LSTM 단일 은닉층을 배치.\n",
        "\n",
        "def build_model():\n",
        "    learning_rate = 0.00001\n",
        "    seq_length = 100\n",
        "    data_dim = 4\n",
        "    METRICS = [\n",
        "      tf.keras.metrics.BinaryAccuracy(name='accuracy')\n",
        "    ]\n",
        "    model = Sequential()\n",
        "\n",
        "    model.add(Conv1D(256, 3, activation = 'relu', kernel_regularizer='l2', input_shape=(100, 4)))\n",
        "    model.add(MaxPooling1D(pool_size=4))    \n",
        "    model.add(Dense(128, activation='relu', kernel_regularizer='l2'))\n",
        "    model.add(LSTM(256))  \n",
        "    model.add(Dense(128, activation='relu', kernel_regularizer='l2'))\n",
        "    model.add(Dense(1, activation='sigmoid', kernel_regularizer='l2'))\n",
        "\n",
        "    model.compile(loss='binary_crossentropy', optimizer=tf.keras.optimizers.Adam(lr=learning_rate), metrics=METRICS)\n",
        "    \n",
        "    return model"
      ],
      "id": "Hrd0wLCQGujr"
    },
    {
      "cell_type": "code",
      "execution_count": 34,
      "metadata": {
        "id": "8JQVjTtAGujr"
      },
      "outputs": [],
      "source": [
        "from sklearn.preprocessing import StandardScaler\n",
        "scaler = StandardScaler()"
      ],
      "id": "8JQVjTtAGujr"
    },
    {
      "cell_type": "code",
      "execution_count": 35,
      "metadata": {
        "id": "yjwHZe92Gujr"
      },
      "outputs": [],
      "source": [
        "skf = StratifiedKFold(n_splits=10)\n",
        "k=10"
      ],
      "id": "yjwHZe92Gujr"
    },
    {
      "cell_type": "code",
      "execution_count": 39,
      "metadata": {
        "id": "d_HwULlLGujr"
      },
      "outputs": [],
      "source": [
        "from sklearn.metrics import f1_score\n",
        "from sklearn.metrics import accuracy_score\n",
        "from sklearn.metrics import confusion_matrix\n",
        "from imblearn.over_sampling import SMOTE"
      ],
      "id": "d_HwULlLGujr"
    },
    {
      "cell_type": "code",
      "execution_count": null,
      "metadata": {
        "scrolled": true,
        "id": "OnyEVRFaGujs",
        "outputId": "0d8e756f-1f7a-45c0-f690-59fc242d8318",
        "colab": {
          "base_uri": "https://localhost:8080/"
        }
      },
      "outputs": [
        {
          "output_type": "stream",
          "name": "stderr",
          "text": [
            "/usr/local/lib/python3.7/dist-packages/keras/optimizer_v2/adam.py:105: UserWarning: The `lr` argument is deprecated, use `learning_rate` instead.\n",
            "  super(Adam, self).__init__(name, **kwargs)\n"
          ]
        },
        {
          "output_type": "stream",
          "name": "stdout",
          "text": [
            "Epoch 1/60\n",
            " 839/1087 [======================>.......] - ETA: 2:02 - loss: 3.5612 - accuracy: 0.9190"
          ]
        }
      ],
      "source": [
        "all_history=[]\n",
        "all_acc=[]\n",
        "all_f1=[]\n",
        "matrix=[]\n",
        "\n",
        "model =  build_model()\n",
        "for train_index, test_index in skf.split(X_total,Y_total):\n",
        "    #print('train_index : ', train_index,'\\ntest_index : ',test_index)\n",
        "    X_train = X_total[train_index]\n",
        "    y_train = Y_total[train_index]  \n",
        "    X_test = X_total[test_index]\n",
        "    y_test = Y_total[test_index]\n",
        "\n",
        "    sm = SMOTE()\n",
        "    X_train=np.reshape(X_train,(len(X_train),400))\n",
        "\n",
        "    X_train_oversampled, y_train_oversampled = sm.fit_resample(X_train, y_train)\n",
        "    X_train_oversampled=np.reshape(X_train_oversampled,(len(X_train_oversampled),100,4))\n",
        "    history =model.fit(X_train_oversampled, y_train_oversampled,epochs=60, batch_size=256, verbose=1)\n",
        "    all_history.append(history.history)\n",
        "    X_test=X_test.astype('float32')\n",
        "    y_pred = model.predict(X_test)\n",
        "    y_pred_binary=np.around(y_pred)\n",
        "    \n",
        "    acc=accuracy_score(y_test, y_pred_binary)\n",
        "    all_acc.append(acc)\n",
        "    \n",
        "    f1=f1_score(y_test, y_pred_binary)\n",
        "    all_f1.append(f1)\n",
        "    \n",
        "    matrix.append(confusion_matrix(y_test, y_pred_binary))\n",
        "    \n",
        "    tn, fp, fn, tp = confusion_matrix(y_test, y_pred_binary).ravel()\n",
        "    print(f'Accuracy: {acc}')\n",
        "    print(f'f-score: {f1}')\n",
        "    print(f'tn fp fn tp :{tn, fp, fn, tp}')"
      ],
      "id": "OnyEVRFaGujs"
    },
    {
      "cell_type": "code",
      "execution_count": null,
      "metadata": {
        "id": "S81CTNWVGujs"
      },
      "outputs": [],
      "source": [
        "print(all_acc)\n",
        "print(all_f1)\n",
        "for i in range(k):\n",
        "    print(matrix[i][0][0],matrix[i][0][1],matrix[i][1][0],matrix[i][1][1])"
      ],
      "id": "S81CTNWVGujs"
    },
    {
      "cell_type": "code",
      "execution_count": null,
      "metadata": {
        "id": "lsxqCOk4Gujs"
      },
      "outputs": [],
      "source": [
        "print(sum(all_acc)/10)\n",
        "print(sum(all_f1)/10)\n",
        "for i in range(k):\n",
        "    print(matrix[i][0][0],matrix[i][0][1],matrix[i][1][0],matrix[i][1][1])"
      ],
      "id": "lsxqCOk4Gujs"
    },
    {
      "cell_type": "code",
      "execution_count": null,
      "metadata": {
        "id": "65jDe3A-Gujs"
      },
      "outputs": [],
      "source": [
        "for i in range(5):\n",
        "    loss =all_history[i]['loss']\n",
        "    #val_loss = all_history[i]['val_loss']\n",
        "    epochs = range(1, len(loss) + 1)\n",
        "    plt.plot(epochs, loss, 'bo', label='Training loss')  # ‘bo’는 파란색 점을 의미합니다.\n",
        "    #plt.plot(epochs, val_loss, 'b', label='Validation loss') # ‘b’는 파란색 실선을 의미합니다.\n",
        "    plt.title('Training and validation loss')\n",
        "    plt.xlabel('Epochs')\n",
        "    plt.ylabel('Loss')\n",
        "    plt.legend()\n",
        "    plt.show()"
      ],
      "id": "65jDe3A-Gujs"
    }
  ],
  "metadata": {
    "kernelspec": {
      "display_name": "test",
      "language": "python",
      "name": "test"
    },
    "language_info": {
      "codemirror_mode": {
        "name": "ipython",
        "version": 3
      },
      "file_extension": ".py",
      "mimetype": "text/x-python",
      "name": "python",
      "nbconvert_exporter": "python",
      "pygments_lexer": "ipython3",
      "version": "3.7.9"
    },
    "colab": {
      "provenance": []
    }
  },
  "nbformat": 4,
  "nbformat_minor": 5
}