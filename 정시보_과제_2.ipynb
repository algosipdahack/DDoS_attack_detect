{
  "cells": [
    {
      "cell_type": "markdown",
      "metadata": {
        "id": "view-in-github",
        "colab_type": "text"
      },
      "source": [
        "<a href=\"https://colab.research.google.com/github/algosipdahack/DDoS_attack_detect/blob/main/%EC%A0%95%EC%8B%9C%EB%B3%B4_%EA%B3%BC%EC%A0%9C_2.ipynb\" target=\"_parent\"><img src=\"https://colab.research.google.com/assets/colab-badge.svg\" alt=\"Open In Colab\"/></a>"
      ]
    },
    {
      "cell_type": "markdown",
      "metadata": {
        "id": "sRCY-00XPJCi"
      },
      "source": [
        "https://heytech.tistory.com/150 참고"
      ]
    },
    {
      "cell_type": "code",
      "execution_count": null,
      "metadata": {
        "id": "JDssbR-aOYYO"
      },
      "outputs": [],
      "source": [
        "import numpy as np # 벡터, 행렬 등 수치 연산을 수행하는 선형대수 라이브러리\n",
        "import pandas as pd # 시리즈, 데이터프레임 포맷 데이터 처리를 위한 라이브러리\n",
        "import warnings; warnings.filterwarnings(action='ignore') # 경고 메시지 무시\n",
        "import matplotlib.pyplot as plt # 데이터 시각화 라이브러리\n",
        "import pickle # 객체 입출력을 위한 라이브러리\n",
        "from sklearn.model_selection import train_test_split # 훈련 데이터, 테스트 데이터 분리\n",
        "from sklearn.preprocessing import StandardScaler # 정규화\n",
        "from sklearn.ensemble import RandomForestClassifier as RFC # 랜덤포레스트 분류 알고리즘\n",
        "from sklearn.tree import DecisionTreeClassifier as DTC # 의사결정나무 분류 알고리즘\n",
        "from sklearn.ensemble import GradientBoostingClassifier as GBC # 그래디언트 부스팅 분류 알고리즘\n",
        "# 모델 평가를 위한 metrics\n",
        "from sklearn.metrics import accuracy_score, precision_score, recall_score, f1_score, plot_confusion_matrix"
      ]
    },
    {
      "cell_type": "code",
      "execution_count": null,
      "metadata": {
        "id": "KGxV64usaE1Z"
      },
      "outputs": [],
      "source": [
        "import numpy as np\n",
        "import pandas as pd\n",
        "\n",
        "peminer_header = ['ADVAP132.DLL', 'AWFAXP32.DLL', 'AWFXAB32.DLL', 'AWPWD32.DLL', 'AWRESX32.DLL', 'AWUTIL32.DLL', \n",
        "                  'BHNETB.DLL', 'BHSUPP.DLL', 'CCAPI.DLL', 'CCEI.DLL', 'CCPSH.DLL', 'CCTN20.DLL', 'CMC.DLL', 'COMCTL32.DLL', \n",
        "                  'COMDLG32.DLL', 'CRTDLL.DLL', 'DCIMAN.DLL', 'DCIMAN32.DLL', 'DSKMAINT.DLL', 'FileHeader.Characteristics', \n",
        "                  'FileHeader.Machine', 'FileHeader.NumberOfSections', 'FileHeader.NumberOfSymbols', 'FileHeader.PointerToSymbolTable', \n",
        "                  'FileHeader.SizeOfOptionalHeader', 'FileHeader.TimeDateStamp', 'GDI32.DLL', 'GROUP.DLL', 'HYPERTERM.DLL', 'KERNL32.DLL', 'LZ32.DLL', 'MAPI.DLL', \n",
        "                  'MAPI32.DLL', 'MFC30.DLL', 'MPR.DLL', 'MSFS32.DLL', 'MSNDUI.DLL', 'MSNET32.DLL', 'MSPST32.DLL', 'MSSHRUI.DLL', 'MSVIEWUT.DLL', 'NAL.DLL', 'NDIS30.DLL', \n",
        "                  'NETAPI.DLL', 'NETAPI32.DLL', 'NETBIOS.DLL', 'NETDI.DLL', 'NETSETUP.DLL', 'NWAB32.DLL', 'NWNET32.DLL', 'NWNP32.DLL', 'OLEDLG.DLL', 'OptionalHeader.AddressOfEntryPoint', \n",
        "                  'OptionalHeader.BaseOfCode', 'OptionalHeader.BaseOfData', 'OptionalHeader.CheckSum', 'OptionalHeader.DataDirectory.IMAGE_DIRECTORY_ENTRY_BASERELOC.Size', \n",
        "                  'OptionalHeader.DataDirectory.IMAGE_DIRECTORY_ENTRY_BASERELOC.VirtualAddress', 'OptionalHeader.DataDirectory.IMAGE_DIRECTORY_ENTRY_BOUND_IMPORT.Size', \n",
        "                  'OptionalHeader.DataDirectory.IMAGE_DIRECTORY_ENTRY_BOUND_IMPORT.VirtualAddress', 'OptionalHeader.DataDirectory.IMAGE_DIRECTORY_ENTRY_COM_DESCRIPTOR.Size', \n",
        "                  'OptionalHeader.DataDirectory.IMAGE_DIRECTORY_ENTRY_COM_DESCRIPTOR.VirtualAddress', 'OptionalHeader.DataDirectory.IMAGE_DIRECTORY_ENTRY_DEBUG.Size', \n",
        "                  'OptionalHeader.DataDirectory.IMAGE_DIRECTORY_ENTRY_DEBUG.VirtualAddress', 'OptionalHeader.DataDirectory.IMAGE_DIRECTORY_ENTRY_DELAY_IMPORT.Size', \n",
        "                  'OptionalHeader.DataDirectory.IMAGE_DIRECTORY_ENTRY_DELAY_IMPORT.VirtualAddress', 'OptionalHeader.DataDirectory.IMAGE_DIRECTORY_ENTRY_EXCEPTION.Size', \n",
        "                  'OptionalHeader.DataDirectory.IMAGE_DIRECTORY_ENTRY_EXCEPTION.VirtualAddress', 'OptionalHeader.DataDirectory.IMAGE_DIRECTORY_ENTRY_EXPORT.Size', \n",
        "                  'OptionalHeader.DataDirectory.IMAGE_DIRECTORY_ENTRY_EXPORT.VirtualAddress', 'OptionalHeader.DataDirectory.IMAGE_DIRECTORY_ENTRY_GLOBALPTR.Size', \n",
        "                  'OptionalHeader.DataDirectory.IMAGE_DIRECTORY_ENTRY_GLOBALPTR.VirtualAddress', 'OptionalHeader.DataDirectory.IMAGE_DIRECTORY_ENTRY_IAT.Size', \n",
        "                  'OptionalHeader.DataDirectory.IMAGE_DIRECTORY_ENTRY_IAT.VirtualAddress', 'OptionalHeader.DataDirectory.IMAGE_DIRECTORY_ENTRY_IMPORT.Size', \n",
        "                  'OptionalHeader.DataDirectory.IMAGE_DIRECTORY_ENTRY_IMPORT.VirtualAddress', 'OptionalHeader.DataDirectory.IMAGE_DIRECTORY_ENTRY_LOAD_CONFIG.Size', \n",
        "                  'OptionalHeader.DataDirectory.IMAGE_DIRECTORY_ENTRY_LOAD_CONFIG.VirtualAddress', 'OptionalHeader.DataDirectory.IMAGE_DIRECTORY_ENTRY_RESERVED.Size', \n",
        "                  'OptionalHeader.DataDirectory.IMAGE_DIRECTORY_ENTRY_RESERVED.VirtualAddress', 'OptionalHeader.DataDirectory.IMAGE_DIRECTORY_ENTRY_RESOURCE.Size', \n",
        "                  'OptionalHeader.DataDirectory.IMAGE_DIRECTORY_ENTRY_RESOURCE.VirtualAddress', 'OptionalHeader.DataDirectory.IMAGE_DIRECTORY_ENTRY_SECURITY.Size', \n",
        "                  'OptionalHeader.DataDirectory.IMAGE_DIRECTORY_ENTRY_SECURITY.VirtualAddress', 'OptionalHeader.DataDirectory.IMAGE_DIRECTORY_ENTRY_TLS.Size', \n",
        "                  'OptionalHeader.DataDirectory.IMAGE_DIRECTORY_ENTRY_TLS.VirtualAddress', 'OptionalHeader.DllCharacteristics', 'OptionalHeader.FileAlignment', 'OptionalHeader.ImageBase', \n",
        "                  'OptionalHeader.LoaderFlags', 'OptionalHeader.Magic', 'OptionalHeader.MajorImageVersion', 'OptionalHeader.MajorLinkerVersion', 'OptionalHeader.MajorOperatingSystemVersion', \n",
        "                  'OptionalHeader.MajorSubsystemVersion', 'OptionalHeader.MinorImageVersion', 'OptionalHeader.MinorLinkerVersion', 'OptionalHeader.MinorOperatingSystemVersion', 'OptionalHeader.MinorSubsystemVersion', \n",
        "                  'OptionalHeader.NumberOfRvaAndSizes', 'OptionalHeader.Reserved1', 'OptionalHeader.SectionAlignment', 'OptionalHeader.SizeOfCode', 'OptionalHeader.SizeOfHeaders', 'OptionalHeader.SizeOfHeapCommit', \n",
        "                  'OptionalHeader.SizeOfHeapReserve', 'OptionalHeader.SizeOfImage', 'OptionalHeader.SizeOfInitializedData', 'OptionalHeader.SizeOfStackCommit', 'OptionalHeader.SizeOfStackReserve', \n",
        "                  'OptionalHeader.SizeOfUninitializedData', 'OptionalHeader.Subsystem', 'POWERCFG.DLL', 'RASAPI16.DLL', 'RASAPI32.DLL', 'RASPI.DLL', 'RPCLTC1.DLL', 'RPCNS4.DLL', 'RPCRT4.DLL', 'RPCTLC3.DLL', \n",
        "                  'RPCTLC5.DLL', 'RPCTLC6.DLL', 'RPCTLS3.DLL', 'RPCTLS5.DLL', 'RPCTLS6.DLL', 'RSRC32.DLL', 'Resource.Characteristics', 'Resource.MajorVersion', 'Resource.MinorVersion', 'Resource.NumberOfIdEntries', \n",
        "                  'Resource.NumberOfNamedEntries', 'Resource.RT_ACCELERATOR', 'Resource.RT_BITMAP', 'Resource.RT_CURSOR', 'Resource.RT_DIALOG', 'Resource.RT_DLGINCLUDE', 'Resource.RT_FONT', 'Resource.RT_FONTDIR', \n",
        "                  'Resource.RT_GROUP_CURSOR', 'Resource.RT_GROUP_ICON', 'Resource.RT_ICON', 'Resource.RT_MENU', 'Resource.RT_MESSAGETABLE', 'Resource.RT_RCDATA', 'Resource.RT_STRING', 'Resource.RT_VERSION', \n",
        "                  'Resource.TimeDateStamp', 'SAPNSP.DLL', 'SECUR32.DLL', 'SHELL32.DLL', 'SHLWAPI.DLL', 'SLENH.DLL', 'Section.data.Characteristics', 'Section.data.NumberOfLinenumbers', 'Section.data.NumberOfRelocations', \n",
        "                  'Section.data.PointerToLinenumbers', 'Section.data.PointerToRawData', 'Section.data.PointerToRelocations', 'Section.data.SizeOfRawData', 'Section.data.VirtualAddress', 'Section.data.VirtualSize', \n",
        "                  'Section.rsrc.Characteristics', 'Section.rsrc.NumberOfLinenumbers', 'Section.rsrc.NumberOfRelocations', 'Section.rsrc.PointerToLinenumbers', 'Section.rsrc.PointerToRawData', 'Section.rsrc.PointerToRelocations', \n",
        "                  'Section.rsrc.SizeOfRawData', 'Section.rsrc.VirtualAddress', 'Section.rsrc.VirtualSize', 'Section.text.Characteristics', 'Section.text.NumberOfLinenumbers', 'Section.text.NumberOfRelocations', 'Section.text.PointerToLinenumbers', \n",
        "                  'Section.text.PointerToRawData', 'Section.text.PointerToRelocations', 'Section.text.SizeOfRawData', 'Section.text.VirtualAddress', 'Section.text.VirtualSize', 'UMDM32.DLL', 'USER32.DLL', 'VERSION.DLL', 'WININET.DLL', \n",
        "                  'WINMM.DLL', 'WINREG.DLL', 'WINSOCK.DLL', 'WS2.DLL', 'WSOCK32.DLL']\n",
        "y_header = ['label']\n",
        "x_trains = pd.DataFrame(np.load(\"/content/sample_data/new_peminer_train_features.npy\"), columns=peminer_header)\n",
        "y_trains = pd.DataFrame(np.load('/content/sample_data/new_peminer_train_labels.npy'), columns=y_header)\n",
        "x_trains.head()\n",
        "x_trains = x_trains.drop(['FileHeader.TimeDateStamp','GROUP.DLL','NETSETUP.DLL','NWAB32.DLL','NWNET32.DLL','NWNP32.DLL','MAPI32.DLL','MAPI.DLL','LZ32.DLL','POWERCFG.DLL','Resource.RT_DLGINCLUDE',\n",
        "                          'Resource.RT_DIALOG','Resource.RT_CURSOR','Section.text.PointerToLinenumbers','Section.rsrc.NumberOfLinenumbers','OptionalHeader.LoaderFlags',\n",
        "                          'OptionalHeader.DataDirectory.IMAGE_DIRECTORY_ENTRY_RESERVED.Size','OptionalHeader.DataDirectory.IMAGE_DIRECTORY_ENTRY_RESERVED.VirtualAddress','Resource.RT_BITMAP','Resource.RT_ACCELERATOR','Resource.NumberOfIdEntries',\n",
        "                          'Resource.MinorVersion','Resource.MajorVersion','Resource.Characteristics','RSRC32.DLL','RPCTLS6.DLL','RPCTLS5.DLL','RPCTLS3.DLL','RPCTLC6.DLL',\n",
        "                          'RPCTLC5.DLL','RPCTLC3.DLL','RPCNS4.DLL','RPCLTC1.DLL','RASPI.DLL','RASAPI16.DLL','AWFAXP32.DLL','HYPERTERM.DLL','ADVAP132.DLL','KERNL32.DLL',\n",
        "                          'Resource.TimeDateStamp','Section.data.PointerToLinenumbers','DSKMAINT.DLL','Resource.RT_MESSAGETABLE','FileHeader.Machine','FileHeader.NumberOfSections',\n",
        "                          'Section.data.PointerToRelocations','Resource.RT_RCDATA','Resource.RT_STRING','RASAPI32.DLL','FileHeader.NumberOfSymbols','Resource.RT_VERSION',\n",
        "                          'SAPNSP.DLL','Section.data.NumberOfRelocations','Section.data.NumberOfLinenumbers','FileHeader.PointerToSymbolTable',\n",
        "                          'SLENH.DLL','Resource.RT_MENU','FileHeader.SizeOfOptionalHeader','DCIMAN32.DLL','Resource.RT_ICON','OptionalHeader.SectionAlignment',\n",
        "                          'OptionalHeader.DataDirectory.IMAGE_DIRECTORY_ENTRY_GLOBALPTR.VirtualAddress','Section.rsrc.NumberOfRelocations','Section.rsrc.PointerToLinenumbers',\n",
        "                          'WS2.DLL','WINSOCK.DLL','WINREG.DLL','AWPWD32.DLL','AWRESX32.DLL','AWUTIL32.DLL','UMDM32.DLL','NETAPI32.DLL',\n",
        "                          'BHNETB.DLL','BHSUPP.DLL','CCAPI.DLL','Section.text.PointerToRelocations','CCEI.DLL','Section.text.NumberOfRelocations','Section.text.NumberOfLinenumbers',\n",
        "                          'CCPSH.DLL','CCTN20.DLL','CMC.DLL','Resource.RT_GROUP_CURSOR','CRTDLL.DLL','Section.rsrc.PointerToRelocations','DCIMAN.DLL',\n",
        "                          'Resource.RT_GROUP_ICON','Resource.NumberOfNamedEntries','OptionalHeader.SizeOfHeapCommit','OptionalHeader.SizeOfHeapReserve','Resource.RT_FONTDIR','NAL.DLL','MFC30.DLL','MSFS32.DLL','MSNDUI.DLL','MSNET32.DLL','MSPST32.DLL',\n",
        "                          'OptionalHeader.Reserved1','RPCRT4.DLL','OptionalHeader.NumberOfRvaAndSizes','MSSHRUI.DLL','MSVIEWUT.DLL','AWFXAB32.DLL',\n",
        "                          'NDIS30.DLL','Resource.RT_FONT','NETAPI.DLL','NETBIOS.DLL','OptionalHeader.Magic','NETDI.DLL','OptionalHeader.DataDirectory.IMAGE_DIRECTORY_ENTRY_EXCEPTION.Size',\n",
        "                          'OptionalHeader.DataDirectory.IMAGE_DIRECTORY_ENTRY_EXCEPTION.VirtualAddress','OptionalHeader.DataDirectory.IMAGE_DIRECTORY_ENTRY_GLOBALPTR.Size'], axis = 1)\n"
      ]
    },
    {
      "cell_type": "code",
      "execution_count": null,
      "metadata": {
        "colab": {
          "base_uri": "https://localhost:8080/"
        },
        "id": "h3JylOblHmQH",
        "outputId": "bb40fc90-dec4-41ed-b69c-3c67161b1b4c"
      },
      "outputs": [
        {
          "output_type": "execute_result",
          "data": {
            "text/plain": [
              "1    0.7\n",
              "0    0.3\n",
              "Name: label, dtype: float64"
            ]
          },
          "metadata": {},
          "execution_count": 77
        }
      ],
      "source": [
        "df = pd.concat([x_trains,y_trains],axis=1)\n",
        "df.label.value_counts(normalize=True)"
      ]
    },
    {
      "cell_type": "code",
      "execution_count": null,
      "metadata": {
        "id": "nlqKgxQwNM3r"
      },
      "outputs": [],
      "source": [
        "from sklearn.preprocessing import StandardScaler # 정규화\n",
        "scaler = StandardScaler()\n",
        "x_scaled = scaler.fit_transform(x_trains)"
      ]
    },
    {
      "cell_type": "code",
      "execution_count": null,
      "metadata": {
        "id": "RXY38EgeNbL1"
      },
      "outputs": [],
      "source": [
        "from sklearn.model_selection import train_test_split\n",
        "x_train, x_test, y_train, y_test = train_test_split(x_scaled, y_trains, \n",
        "                                                    test_size = 0.3, random_state = 123)"
      ]
    },
    {
      "cell_type": "code",
      "execution_count": null,
      "metadata": {
        "colab": {
          "base_uri": "https://localhost:8080/"
        },
        "id": "O3KHmAM6Ni2b",
        "outputId": "8205321b-ee71-4a86-aef2-3835d9e695d9"
      },
      "outputs": [
        {
          "output_type": "execute_result",
          "data": {
            "text/plain": [
              "label\n",
              "1        0.701071\n",
              "0        0.298929\n",
              "dtype: float64"
            ]
          },
          "metadata": {},
          "execution_count": 80
        }
      ],
      "source": [
        "# 훈련 데이터 내 와인별 비율\n",
        "y_train.value_counts(normalize=True)"
      ]
    },
    {
      "cell_type": "code",
      "execution_count": null,
      "metadata": {
        "id": "Hqfw6ctGNq1S"
      },
      "outputs": [],
      "source": [
        "def modeling_uncustomized (algorithm, x_train, y_train, x_test, y_test):\n",
        "    # 하이퍼파라미터 조정 없이 모델 학습\n",
        "    uncustomized = algorithm(random_state=1234)\n",
        "    uncustomized.fit(x_train, y_train)\n",
        "    # Train Data 설명력\n",
        "    train_score_before = uncustomized.score(x_train, y_train).round(3)\n",
        "    print(f\"학습 데이터셋 정확도: {train_score_before}\")\n",
        "    # Test Data 설명력\n",
        "    test_score_before = uncustomized.score(x_test, y_test).round(3)\n",
        "    print(f\"테스트 데이터셋 정확도: {test_score_before}\")\n",
        "    return train_score_before, test_score_before"
      ]
    },
    {
      "cell_type": "code",
      "execution_count": null,
      "metadata": {
        "id": "J9osn0Q4N0LC"
      },
      "outputs": [],
      "source": [
        "def optimi_estimator(algorithm, algorithm_name, x_train, y_train, x_test, y_test, n_estimator_min, n_estimator_max):\n",
        "    train_score = []; test_score =[]\n",
        "    para_n_tree = [n_tree*5 for n_tree in range(n_estimator_min, n_estimator_max)]\n",
        "\n",
        "    for v_n_estimators in para_n_tree:\n",
        "        model = algorithm(n_estimators = v_n_estimators, random_state=1234)\n",
        "        model.fit(x_train, y_train)\n",
        "        train_score.append(model.score(x_train, y_train))\n",
        "        test_score.append(model.score(x_test, y_test))\n",
        "\n",
        "    # 트리 개수에 따른 모델 성능 저장\n",
        "    df_score_n = pd.DataFrame({'n_estimators': para_n_tree, 'TrainScore': train_score, 'TestScore': test_score})\n",
        "    # 트리 개수에 따른 모델 성능 추이 시각화 함수 호출\n",
        "    #optimi_visualization(algorithm_name, para_n_tree, train_score, test_score, \"The number of estimator\", \"n_estimator\")\n",
        "    print(round(df_score_n, 4))"
      ]
    },
    {
      "cell_type": "code",
      "execution_count": null,
      "metadata": {
        "id": "c3VxcpMiN28U"
      },
      "outputs": [],
      "source": [
        "def optimi_maxdepth (algorithm, algorithm_name, x_train, y_train, x_test, y_test, depth_min, depth_max, n_estimator):\n",
        "    train_score = []; test_score = []\n",
        "    para_depth = [depth for depth in range(depth_min, depth_max)]\n",
        "\n",
        "    for v_max_depth in para_depth:\n",
        "        # 의사결정나무 모델의 경우 트리 개수를 따로 설정하지 않기 때문에 RFC, GBC와 분리하여 모델링\n",
        "        if algorithm == DTC:\n",
        "            model = algorithm(max_depth = v_max_depth,\n",
        "                              random_state=1234)\n",
        "        else:\n",
        "            model = algorithm(max_depth = v_max_depth,\n",
        "                              n_estimators = n_estimator,\n",
        "                              random_state=1234)\n",
        "        \n",
        "        model.fit(x_train, y_train)\n",
        "        train_score.append(model.score(x_train, y_train))\n",
        "        test_score.append(model.score(x_test, y_test))\n",
        "\n",
        "    # 최대 깊이에 따른 모델 성능 저장\n",
        "    df_score_n = pd.DataFrame({'depth': para_depth, 'TrainScore': train_score, 'TestScore': test_score})\n",
        "    # 최대 깊이에 따른 모델 성능 추이 시각화 함수 호출\n",
        "    print(round(df_score_n, 4))"
      ]
    },
    {
      "cell_type": "code",
      "execution_count": null,
      "metadata": {
        "id": "xTiMnEmvN6dY"
      },
      "outputs": [],
      "source": [
        "def optimi_minsplit (algorithm, algorithm_name, x_train, y_train, x_test, y_test, n_split_min, n_split_max, n_estimator, n_depth):\n",
        "    train_score = []; test_score = []\n",
        "    para_split = [n_split*2 for n_split in range(n_split_min, n_split_max)]\n",
        "    for v_min_samples_split in para_split:\n",
        "        # 의사결정나무 모델의 경우 트리 개수를 따로 설정하지 않기 때문에 RFC, GBC와 분리하여 모델링\n",
        "        if algorithm == DTC:\n",
        "            model = algorithm(min_samples_split = v_min_samples_split,\n",
        "                              max_depth = n_depth,\n",
        "                              random_state = 1234)\n",
        "        else:\n",
        "            model = algorithm(min_samples_split = v_min_samples_split,\n",
        "                              n_estimators = n_estimator,\n",
        "                              max_depth = n_depth,\n",
        "                              random_state = 1234)\n",
        "        model.fit(x_train, y_train)\n",
        "        train_score.append(model.score(x_train, y_train))\n",
        "        test_score.append(model.score(x_test, y_test))\n",
        "        print(model.score(x_train, y_train),model.score(x_test, y_test))\n",
        "\n",
        "    # 분리 노드의 최소 자료 수에 따른 모델 성능 저장\n",
        "    df_score_n = pd.DataFrame({'min_samples_split': para_split, 'TrainScore': train_score, 'TestScore': test_score})\n",
        "    # 분리 노드의 최소 자료 수에 따른 모델 성능 추이 시각화 함수 호출\n",
        "    #optimi_visualization(algorithm_name, para_split, train_score, test_score, \"The minimum number of samples required to split an internal node\", \"min_samples_split\")\n",
        "    print(round(df_score_n, 4))"
      ]
    },
    {
      "cell_type": "code",
      "execution_count": null,
      "metadata": {
        "id": "6But-4NcN69L"
      },
      "outputs": [],
      "source": [
        "def optimi_minleaf(algorithm, algorithm_name, x_train, y_train, x_test, y_test, n_leaf_min, n_leaf_max, n_estimator, n_depth, n_split):\n",
        "    train_score = []; test_score = []\n",
        "    para_leaf = [n_leaf*2 for n_leaf in range(n_leaf_min, n_leaf_max)]\n",
        "\n",
        "    for v_min_samples_leaf in para_leaf:\n",
        "        # 의사결정나무 모델의 경우 트리 개수를 따로 설정하지 않기 때문에 RFC, GBC와 분리하여 모델링\n",
        "        if algorithm == DTC:\n",
        "            model = algorithm(min_samples_leaf = v_min_samples_leaf,\n",
        "                                        max_depth = n_depth,\n",
        "                                        min_samples_split = n_split,\n",
        "                                        random_state=1234)\n",
        "        else:\n",
        "            model = algorithm(min_samples_leaf = v_min_samples_leaf,\n",
        "                                n_estimators = n_estimator,\n",
        "                                max_depth = n_depth,\n",
        "                                min_samples_split = n_split,\n",
        "                                random_state=1234)\n",
        "        model.fit(x_train, y_train)\n",
        "        print(model.score(x_train, y_train),model.score(x_test, y_test))\n",
        "        train_score.append(model.score(x_train, y_train))\n",
        "        test_score.append(model.score(x_test, y_test))\n",
        "\n",
        "    # 잎사귀 노드의 최소 자료 수에 따른 모델 성능 저장\n",
        "    df_score_n = pd.DataFrame({'min_samples_leaf': para_leaf, 'TrainScore': train_score, 'TestScore': test_score})\n",
        "    # 잎사귀 노드의 최소 자료 수에 따른 모델 성능 추이 시각화 함수 호출\n",
        "    #optimi_visualization(algorithm_name, para_leaf, train_score, test_score, \"The minimum number of samples required to be at a leaf node\", \"min_samples_leaf\")\n",
        "    print(round(df_score_n, 4))"
      ]
    },
    {
      "cell_type": "code",
      "execution_count": null,
      "metadata": {
        "id": "MW-pnK9AN-Pz"
      },
      "outputs": [],
      "source": [
        "def model_final(algorithm, algorithm_name, feature_name, x_train, y_train, x_test, y_test, n_estimator, n_depth, n_split, n_leaf):\n",
        "    # 의사결정나무 모델의 경우 트리 개수를 따로 설정하지 않기 때문에 RFC, GBC와 분리하여 모델링\n",
        "    if algorithm == DTC:\n",
        "        model = algorithm(random_state=1234, \n",
        "                          min_samples_leaf = n_leaf,\n",
        "                          min_samples_split = n_split, \n",
        "                          max_depth = n_depth)\n",
        "    else:\n",
        "        model = algorithm(random_state = 1234, \n",
        "                          n_estimators = n_estimator, \n",
        "                          min_samples_leaf = n_leaf,\n",
        "                          min_samples_split = n_split, \n",
        "                          max_depth = n_depth)\n",
        "    # 모델 학습\n",
        "    model.fit(x_train, y_train)\n",
        "    \n",
        "    # 최종 모델의 성능 평가\n",
        "    train_acc = model.score(x_train, y_train)\n",
        "    test_acc = model.score(x_test, y_test)\n",
        "    y_pred = model.predict(x_test)\n",
        "    print(f\"Accuracy: {accuracy_score(y_test, y_pred):.3f}\") # 정확도\n",
        "    print(f\"Precision: {precision_score(y_test, y_pred):.3f}\") # 정밀도\n",
        "    print(f\"Recall: {recall_score(y_test, y_pred):.3f}\") # 재현율\n",
        "    print(f\"F1-score: {f1_score(y_test, y_pred):.3f}\") # F1 스코어\n",
        "    \n",
        "    \n",
        "    # 변수 중요도 산출\n",
        "    dt_importance = pd.DataFrame()\n",
        "    dt_importance['Feature'] = feature_name # 설명변수 이름\n",
        "    dt_importance['Importance'] = model.feature_importances_ # 설명변수 중요도 산출\n",
        "\n",
        "    # 변수 중요도 내림차순 정렬\n",
        "    dt_importance.sort_values(\"Importance\", ascending = False, inplace = True)\n",
        "    print(dt_importance.round(3))\n",
        "    dt_importance.to_csv('/content/sample_data/importance.csv')\n",
        "    # 변수 중요도 오름차순 정렬\n",
        "    return model"
      ]
    },
    {
      "cell_type": "code",
      "execution_count": null,
      "metadata": {
        "id": "7j-k8fxSOELN"
      },
      "outputs": [],
      "source": [
        "# 랜덤포레스트 분류 알고리즘\n",
        "algorithm = RFC\n",
        "algorithm_name = 'rfc'"
      ]
    },
    {
      "cell_type": "code",
      "execution_count": null,
      "metadata": {
        "colab": {
          "base_uri": "https://localhost:8080/"
        },
        "id": "Nqa9cJRcOIli",
        "outputId": "f17f4e91-2780-41fc-b94f-e4edab5a8cd2"
      },
      "outputs": [
        {
          "output_type": "stream",
          "name": "stdout",
          "text": [
            "학습 데이터셋 정확도: 1.0\n",
            "테스트 데이터셋 정확도: 0.955\n"
          ]
        }
      ],
      "source": [
        "train_acc_before, test_acc_before = modeling_uncustomized(algorithm, \n",
        "                                                          x_train,\n",
        "                                                          y_train,\n",
        "                                                          x_test,\n",
        "                                                          y_test)"
      ]
    },
    {
      "cell_type": "code",
      "execution_count": null,
      "metadata": {
        "colab": {
          "base_uri": "https://localhost:8080/"
        },
        "id": "4Z3J2BYYOLzs",
        "outputId": "9daeb9fc-f13a-4122-82c9-dffb5341e844"
      },
      "outputs": [
        {
          "output_type": "stream",
          "name": "stdout",
          "text": [
            "    n_estimators  TrainScore  TestScore\n",
            "0              5      0.9928     0.9420\n",
            "1             10      0.9969     0.9510\n",
            "2             15      0.9982     0.9513\n",
            "3             20      0.9989     0.9532\n",
            "4             25      0.9990     0.9530\n",
            "5             30      0.9994     0.9535\n",
            "6             35      0.9992     0.9528\n",
            "7             40      0.9994     0.9538\n",
            "8             45      0.9995     0.9535\n",
            "9             50      0.9994     0.9542\n",
            "10            55      0.9995     0.9547\n",
            "11            60      0.9996     0.9538\n",
            "12            65      0.9996     0.9525\n",
            "13            70      0.9996     0.9533\n",
            "14            75      0.9996     0.9538\n",
            "15            80      0.9996     0.9530\n",
            "16            85      0.9996     0.9543\n",
            "17            90      0.9996     0.9545\n",
            "18            95      0.9996     0.9552\n",
            "19           100      0.9996     0.9548\n",
            "20           105      0.9996     0.9543\n",
            "21           110      0.9996     0.9540\n",
            "22           115      0.9996     0.9533\n",
            "23           120      0.9996     0.9540\n",
            "24           125      0.9996     0.9537\n",
            "25           130      0.9996     0.9542\n",
            "26           135      0.9996     0.9543\n",
            "27           140      0.9996     0.9543\n",
            "28           145      0.9996     0.9547\n",
            "29           150      0.9996     0.9553\n",
            "30           155      0.9996     0.9548\n",
            "31           160      0.9996     0.9553\n",
            "32           165      0.9996     0.9550\n",
            "33           170      0.9996     0.9548\n",
            "34           175      0.9996     0.9550\n",
            "35           180      0.9996     0.9557\n",
            "36           185      0.9996     0.9557\n",
            "37           190      0.9996     0.9558\n",
            "38           195      0.9996     0.9553\n",
            "39           200      0.9996     0.9552\n",
            "40           205      0.9996     0.9547\n",
            "41           210      0.9996     0.9548\n",
            "42           215      0.9996     0.9552\n",
            "43           220      0.9996     0.9550\n",
            "44           225      0.9996     0.9550\n",
            "45           230      0.9996     0.9548\n",
            "46           235      0.9996     0.9547\n",
            "47           240      0.9996     0.9547\n",
            "48           245      0.9996     0.9548\n",
            "49           250      0.9996     0.9550\n",
            "50           255      0.9996     0.9545\n",
            "51           260      0.9996     0.9545\n",
            "52           265      0.9996     0.9545\n",
            "53           270      0.9996     0.9543\n",
            "54           275      0.9996     0.9543\n",
            "55           280      0.9996     0.9548\n",
            "56           285      0.9996     0.9538\n",
            "57           290      0.9996     0.9543\n",
            "58           295      0.9996     0.9547\n"
          ]
        }
      ],
      "source": [
        "n_estimator_min = 1\n",
        "n_estimator_max = 60\n",
        "optimi_estimator(algorithm, algorithm_name, \n",
        "                 x_train, y_train, x_test, y_test, \n",
        "                 n_estimator_min, n_estimator_max)"
      ]
    },
    {
      "cell_type": "code",
      "execution_count": null,
      "metadata": {
        "id": "GrfN2bqHOPNB"
      },
      "outputs": [],
      "source": [
        "n_estimator = 105"
      ]
    },
    {
      "cell_type": "code",
      "execution_count": null,
      "metadata": {
        "colab": {
          "base_uri": "https://localhost:8080/"
        },
        "id": "LgBHJ07zOQg2",
        "outputId": "a8147233-098f-468e-f646-9c50135bff0a"
      },
      "outputs": [
        {
          "output_type": "stream",
          "name": "stdout",
          "text": [
            "    depth  TrainScore  TestScore\n",
            "0       1      0.7786     0.7743\n",
            "1       2      0.8366     0.8328\n",
            "2       3      0.8515     0.8482\n",
            "3       4      0.8773     0.8737\n",
            "4       5      0.8915     0.8833\n",
            "5       6      0.9038     0.8940\n",
            "6       7      0.9182     0.9058\n",
            "7       8      0.9324     0.9210\n",
            "8       9      0.9444     0.9290\n",
            "9      10      0.9544     0.9388\n",
            "10     11      0.9616     0.9428\n",
            "11     12      0.9680     0.9440\n",
            "12     13      0.9744     0.9462\n",
            "13     14      0.9792     0.9487\n",
            "14     15      0.9829     0.9495\n",
            "15     16      0.9865     0.9497\n",
            "16     17      0.9879     0.9502\n",
            "17     18      0.9903     0.9532\n",
            "18     19      0.9928     0.9537\n",
            "19     20      0.9948     0.9535\n",
            "20     21      0.9953     0.9522\n",
            "21     22      0.9971     0.9532\n",
            "22     23      0.9984     0.9552\n",
            "23     24      0.9991     0.9538\n",
            "24     25      0.9996     0.9547\n",
            "25     26      0.9996     0.9535\n",
            "26     27      0.9996     0.9547\n",
            "27     28      0.9996     0.9528\n",
            "28     29      0.9996     0.9545\n",
            "29     30      0.9996     0.9557\n",
            "30     31      0.9996     0.9540\n",
            "31     32      0.9996     0.9533\n",
            "32     33      0.9996     0.9533\n",
            "33     34      0.9996     0.9545\n",
            "34     35      0.9996     0.9542\n",
            "35     36      0.9996     0.9545\n",
            "36     37      0.9996     0.9545\n",
            "37     38      0.9996     0.9542\n",
            "38     39      0.9996     0.9543\n",
            "39     40      0.9996     0.9543\n",
            "40     41      0.9996     0.9543\n",
            "41     42      0.9996     0.9543\n",
            "42     43      0.9996     0.9543\n",
            "43     44      0.9996     0.9543\n",
            "44     45      0.9996     0.9543\n",
            "45     46      0.9996     0.9543\n",
            "46     47      0.9996     0.9543\n",
            "47     48      0.9996     0.9543\n",
            "48     49      0.9996     0.9543\n",
            "49     50      0.9996     0.9543\n",
            "50     51      0.9996     0.9543\n",
            "51     52      0.9996     0.9543\n",
            "52     53      0.9996     0.9543\n",
            "53     54      0.9996     0.9543\n",
            "54     55      0.9996     0.9543\n",
            "55     56      0.9996     0.9543\n",
            "56     57      0.9996     0.9543\n",
            "57     58      0.9996     0.9543\n",
            "58     59      0.9996     0.9543\n"
          ]
        }
      ],
      "source": [
        "depth_min = 1\n",
        "depth_max = 60\n",
        "optimi_maxdepth(algorithm, algorithm_name, \n",
        "                x_train, y_train, x_test, y_test, \n",
        "                depth_min, depth_max, n_estimator)"
      ]
    },
    {
      "cell_type": "code",
      "execution_count": null,
      "metadata": {
        "id": "RXzcumCajVuj"
      },
      "outputs": [],
      "source": [
        "n_depth = 32"
      ]
    },
    {
      "cell_type": "code",
      "execution_count": null,
      "metadata": {
        "colab": {
          "base_uri": "https://localhost:8080/"
        },
        "id": "MQriWFnDisI5",
        "outputId": "091b4b38-1e4a-4df1-8927-930601425aaf"
      },
      "outputs": [
        {
          "output_type": "stream",
          "name": "stdout",
          "text": [
            "0.9996428571428572 0.9533333333333334\n",
            "0.9969285714285714 0.9526666666666667\n",
            "0.9933571428571428 0.9533333333333334\n",
            "0.9887857142857143 0.9528333333333333\n",
            "0.9852857142857143 0.9531666666666667\n",
            "0.9822857142857143 0.9505\n",
            "0.9793571428571428 0.9491666666666667\n",
            "0.9765 0.9491666666666667\n",
            "0.9757857142857143 0.948\n",
            "0.9735 0.9478333333333333\n",
            "0.9722142857142857 0.9478333333333333\n",
            "0.9707857142857143 0.9465\n",
            "0.9691428571428572 0.9456666666666667\n",
            "0.9682142857142857 0.9451666666666667\n",
            "0.9663571428571428 0.9441666666666667\n",
            "0.9658571428571429 0.9436666666666667\n",
            "0.9652142857142857 0.9435\n",
            "0.9632142857142857 0.9436666666666667\n",
            "0.9622142857142857 0.942\n",
            "0.9619285714285715 0.9411666666666667\n",
            "0.9598571428571429 0.9421666666666667\n",
            "0.9594285714285714 0.9403333333333334\n",
            "0.9581428571428572 0.9396666666666667\n",
            "0.9589285714285715 0.9383333333333334\n",
            "0.9567142857142857 0.9386666666666666\n",
            "0.9558571428571428 0.9376666666666666\n",
            "0.9559285714285715 0.9393333333333334\n",
            "0.9541428571428572 0.9375\n",
            "0.9541428571428572 0.9386666666666666\n",
            "0.9541428571428572 0.936\n",
            "0.9527857142857142 0.9366666666666666\n",
            "0.9522142857142857 0.936\n",
            "0.9521428571428572 0.9373333333333334\n",
            "0.9520714285714286 0.9358333333333333\n",
            "0.9507857142857142 0.936\n",
            "0.9499285714285715 0.9345\n",
            "0.951 0.937\n",
            "0.9489285714285715 0.934\n",
            "0.9490714285714286 0.933\n",
            "0.9482857142857143 0.934\n",
            "0.9489285714285715 0.933\n",
            "0.9487142857142857 0.9335\n",
            "0.9466428571428571 0.9323333333333333\n",
            "0.9487857142857142 0.9331666666666667\n",
            "0.9476428571428571 0.9335\n",
            "0.9465 0.9318333333333333\n",
            "0.9462857142857143 0.9318333333333333\n",
            "0.9448571428571428 0.9305\n",
            "0.9463571428571429 0.9328333333333333\n",
            "0.9455 0.9315\n",
            "0.9449285714285715 0.93\n",
            "0.9446428571428571 0.9291666666666667\n",
            "0.9447857142857143 0.9301666666666667\n",
            "0.9430714285714286 0.9285\n",
            "0.9442857142857143 0.9296666666666666\n",
            "0.9423571428571429 0.9268333333333333\n",
            "0.9425714285714286 0.927\n",
            "0.9414285714285714 0.9273333333333333\n",
            "0.9418571428571428 0.9295\n",
            "0.9402857142857143 0.9275\n",
            "0.9416428571428571 0.9278333333333333\n",
            "0.9407142857142857 0.9286666666666666\n",
            "0.9391428571428572 0.9265\n",
            "0.9402857142857143 0.9256666666666666\n",
            "0.9401428571428572 0.926\n",
            "0.9382857142857143 0.9256666666666666\n",
            "0.9384285714285714 0.9255\n",
            "0.9370714285714286 0.9233333333333333\n",
            "0.9357857142857143 0.9245\n",
            "0.9355 0.9231666666666667\n",
            "0.9355 0.9233333333333333\n",
            "0.9372142857142857 0.925\n",
            "0.9357857142857143 0.9238333333333333\n",
            "0.9345 0.921\n",
            "0.9352142857142857 0.9228333333333333\n",
            "0.9360714285714286 0.9245\n",
            "0.9345 0.9228333333333333\n",
            "0.9342857142857143 0.9226666666666666\n",
            "0.9327857142857143 0.9218333333333333\n",
            "0.9335714285714286 0.923\n",
            "0.9335714285714286 0.9225\n",
            "0.934 0.9223333333333333\n",
            "0.9332857142857143 0.9218333333333333\n",
            "0.934 0.9221666666666667\n",
            "0.9340714285714286 0.9215\n",
            "0.9306428571428571 0.9183333333333333\n",
            "0.9321428571428572 0.92\n",
            "0.9325 0.9203333333333333\n",
            "0.9323571428571429 0.9206666666666666\n",
            "0.9329285714285714 0.9208333333333333\n",
            "0.9319285714285714 0.9215\n",
            "0.9304285714285714 0.9188333333333333\n",
            "0.9307142857142857 0.9206666666666666\n",
            "0.9309285714285714 0.9193333333333333\n",
            "0.93 0.9171666666666667\n",
            "0.9312857142857143 0.9195\n",
            "0.9308571428571428 0.9191666666666667\n",
            "0.932 0.92\n",
            "0.9312857142857143 0.919\n",
            "0.9302857142857143 0.9181666666666667\n",
            "    min_samples_split  TrainScore  TestScore\n",
            "0                   2      0.9996     0.9533\n",
            "1                   4      0.9969     0.9527\n",
            "2                   6      0.9934     0.9533\n",
            "3                   8      0.9888     0.9528\n",
            "4                  10      0.9853     0.9532\n",
            "..                ...         ...        ...\n",
            "95                192      0.9313     0.9195\n",
            "96                194      0.9309     0.9192\n",
            "97                196      0.9320     0.9200\n",
            "98                198      0.9313     0.9190\n",
            "99                200      0.9303     0.9182\n",
            "\n",
            "[100 rows x 3 columns]\n"
          ]
        }
      ],
      "source": [
        "n_split_min = 1\n",
        "n_split_max = 101\n",
        "# 데이터프레임 행 최대 100개까지 반드시 출력\n",
        "optimi_minsplit (algorithm, algorithm_name,\n",
        "                 x_train, y_train, x_test, y_test,\n",
        "                 n_split_min, n_split_max, n_estimator, n_depth)"
      ]
    },
    {
      "cell_type": "code",
      "execution_count": null,
      "metadata": {
        "id": "MWLNTcSeja9s"
      },
      "outputs": [],
      "source": [
        "n_split = 62"
      ]
    },
    {
      "cell_type": "code",
      "execution_count": null,
      "metadata": {
        "colab": {
          "base_uri": "https://localhost:8080/"
        },
        "id": "XRPwQ9LnjceT",
        "outputId": "5a762ebb-ff29-4a4d-d1c7-9318ddb54292"
      },
      "outputs": [
        {
          "output_type": "stream",
          "name": "stdout",
          "text": [
            "0.9514285714285714 0.9365\n",
            "0.9471428571428572 0.933\n",
            "0.9463571428571429 0.9316666666666666\n",
            "0.9445714285714286 0.9313333333333333\n",
            "0.9442142857142857 0.931\n",
            "0.9423571428571429 0.9306666666666666\n",
            "0.9428571428571428 0.9311666666666667\n",
            "0.9416428571428571 0.9298333333333333\n",
            "0.9412857142857143 0.9293333333333333\n",
            "0.9390714285714286 0.9281666666666667\n",
            "0.9402857142857143 0.9285\n",
            "0.9384285714285714 0.9276666666666666\n",
            "0.9375714285714286 0.9258333333333333\n",
            "0.9352142857142857 0.9235\n",
            "0.9352142857142857 0.926\n",
            "0.935 0.9248333333333333\n",
            "0.9325714285714286 0.9215\n",
            "0.9305714285714286 0.9216666666666666\n",
            "0.9292142857142857 0.9195\n",
            "0.9297857142857143 0.9188333333333333\n",
            "0.9286428571428571 0.918\n",
            "0.9282857142857143 0.9195\n",
            "0.9268571428571428 0.9168333333333333\n",
            "0.9247142857142857 0.9143333333333333\n",
            "0.9233571428571429 0.9145\n",
            "0.9247857142857143 0.9128333333333334\n",
            "0.9222857142857143 0.9111666666666667\n",
            "0.9209285714285714 0.9093333333333333\n",
            "0.9201428571428572 0.909\n",
            "0.9187857142857143 0.9091666666666667\n",
            "0.9160714285714285 0.9071666666666667\n",
            "0.9155714285714286 0.9073333333333333\n",
            "0.9154285714285715 0.906\n",
            "0.9135714285714286 0.9043333333333333\n",
            "0.9146428571428571 0.9043333333333333\n",
            "0.9115714285714286 0.903\n",
            "0.9108571428571428 0.9015\n",
            "0.9097142857142857 0.9006666666666666\n",
            "0.9102857142857143 0.9011666666666667\n",
            "0.9102142857142858 0.9005\n",
            "0.9115714285714286 0.9018333333333334\n",
            "0.9082142857142858 0.8991666666666667\n",
            "0.9061428571428571 0.8976666666666666\n",
            "0.9049285714285714 0.8966666666666666\n",
            "0.9052142857142857 0.8951666666666667\n",
            "0.9055 0.8963333333333333\n",
            "0.9045 0.8945\n",
            "0.9017857142857143 0.8931666666666667\n",
            "0.904 0.894\n",
            "0.9028571428571428 0.8943333333333333\n",
            "    min_samples_leaf  TrainScore  TestScore\n",
            "0                  2      0.9514     0.9365\n",
            "1                  4      0.9471     0.9330\n",
            "2                  6      0.9464     0.9317\n",
            "3                  8      0.9446     0.9313\n",
            "4                 10      0.9442     0.9310\n",
            "5                 12      0.9424     0.9307\n",
            "6                 14      0.9429     0.9312\n",
            "7                 16      0.9416     0.9298\n",
            "8                 18      0.9413     0.9293\n",
            "9                 20      0.9391     0.9282\n",
            "10                22      0.9403     0.9285\n",
            "11                24      0.9384     0.9277\n",
            "12                26      0.9376     0.9258\n",
            "13                28      0.9352     0.9235\n",
            "14                30      0.9352     0.9260\n",
            "15                32      0.9350     0.9248\n",
            "16                34      0.9326     0.9215\n",
            "17                36      0.9306     0.9217\n",
            "18                38      0.9292     0.9195\n",
            "19                40      0.9298     0.9188\n",
            "20                42      0.9286     0.9180\n",
            "21                44      0.9283     0.9195\n",
            "22                46      0.9269     0.9168\n",
            "23                48      0.9247     0.9143\n",
            "24                50      0.9234     0.9145\n",
            "25                52      0.9248     0.9128\n",
            "26                54      0.9223     0.9112\n",
            "27                56      0.9209     0.9093\n",
            "28                58      0.9201     0.9090\n",
            "29                60      0.9188     0.9092\n",
            "30                62      0.9161     0.9072\n",
            "31                64      0.9156     0.9073\n",
            "32                66      0.9154     0.9060\n",
            "33                68      0.9136     0.9043\n",
            "34                70      0.9146     0.9043\n",
            "35                72      0.9116     0.9030\n",
            "36                74      0.9109     0.9015\n",
            "37                76      0.9097     0.9007\n",
            "38                78      0.9103     0.9012\n",
            "39                80      0.9102     0.9005\n",
            "40                82      0.9116     0.9018\n",
            "41                84      0.9082     0.8992\n",
            "42                86      0.9061     0.8977\n",
            "43                88      0.9049     0.8967\n",
            "44                90      0.9052     0.8952\n",
            "45                92      0.9055     0.8963\n",
            "46                94      0.9045     0.8945\n",
            "47                96      0.9018     0.8932\n",
            "48                98      0.9040     0.8940\n",
            "49               100      0.9029     0.8943\n"
          ]
        }
      ],
      "source": [
        "n_leaf_min = 1\n",
        "n_leaf_max = 51\n",
        "optimi_minleaf(algorithm, algorithm_name, \n",
        "               x_train, y_train, x_test, y_test, \n",
        "               n_leaf_min, n_leaf_max, n_estimator, n_depth, n_split)"
      ]
    },
    {
      "cell_type": "code",
      "execution_count": null,
      "metadata": {
        "id": "HluIuRUBthXF"
      },
      "outputs": [],
      "source": [
        "n_leaf = 24"
      ]
    },
    {
      "cell_type": "code",
      "execution_count": null,
      "metadata": {
        "colab": {
          "base_uri": "https://localhost:8080/"
        },
        "id": "xqMi2T1FtiMx",
        "outputId": "0a457a01-84ec-48e7-c036-01cd651fd89d"
      },
      "outputs": [
        {
          "output_type": "stream",
          "name": "stdout",
          "text": [
            "Accuracy: 0.928\n",
            "Precision: 0.927\n",
            "Recall: 0.973\n",
            "F1-score: 0.949\n",
            "                                              Feature  Importance\n",
            "36                           OptionalHeader.ImageBase       0.093\n",
            "30  OptionalHeader.DataDirectory.IMAGE_DIRECTORY_E...       0.084\n",
            "2                          FileHeader.Characteristics       0.064\n",
            "21  OptionalHeader.DataDirectory.IMAGE_DIRECTORY_E...       0.061\n",
            "31  OptionalHeader.DataDirectory.IMAGE_DIRECTORY_E...       0.059\n",
            "..                                                ...         ...\n",
            "14  OptionalHeader.DataDirectory.IMAGE_DIRECTORY_E...       0.000\n",
            "35                       OptionalHeader.FileAlignment       0.000\n",
            "44               OptionalHeader.MinorSubsystemVersion       0.000\n",
            "74                                          WINMM.DLL       0.000\n",
            "15  OptionalHeader.DataDirectory.IMAGE_DIRECTORY_E...       0.000\n",
            "\n",
            "[76 rows x 2 columns]\n"
          ]
        }
      ],
      "source": [
        "feature_name = x_trains.columns\n",
        "model = model_final(algorithm, algorithm_name, feature_name,\n",
        "            x_train, y_train, x_test, y_test,\n",
        "            n_estimator, n_depth, n_split, n_leaf)"
      ]
    },
    {
      "cell_type": "code",
      "source": [
        "import numpy as np\n",
        "import pandas as pd\n",
        "\n",
        "peminer_header = ['ADVAP132.DLL', 'AWFAXP32.DLL', 'AWFXAB32.DLL', 'AWPWD32.DLL', 'AWRESX32.DLL', 'AWUTIL32.DLL', \n",
        "                  'BHNETB.DLL', 'BHSUPP.DLL', 'CCAPI.DLL', 'CCEI.DLL', 'CCPSH.DLL', 'CCTN20.DLL', 'CMC.DLL', 'COMCTL32.DLL', \n",
        "                  'COMDLG32.DLL', 'CRTDLL.DLL', 'DCIMAN.DLL', 'DCIMAN32.DLL', 'DSKMAINT.DLL', 'FileHeader.Characteristics', \n",
        "                  'FileHeader.Machine', 'FileHeader.NumberOfSections', 'FileHeader.NumberOfSymbols', 'FileHeader.PointerToSymbolTable', \n",
        "                  'FileHeader.SizeOfOptionalHeader', 'FileHeader.TimeDateStamp', 'GDI32.DLL', 'GROUP.DLL', 'HYPERTERM.DLL', 'KERNL32.DLL', 'LZ32.DLL', 'MAPI.DLL', \n",
        "                  'MAPI32.DLL', 'MFC30.DLL', 'MPR.DLL', 'MSFS32.DLL', 'MSNDUI.DLL', 'MSNET32.DLL', 'MSPST32.DLL', 'MSSHRUI.DLL', 'MSVIEWUT.DLL', 'NAL.DLL', 'NDIS30.DLL', \n",
        "                  'NETAPI.DLL', 'NETAPI32.DLL', 'NETBIOS.DLL', 'NETDI.DLL', 'NETSETUP.DLL', 'NWAB32.DLL', 'NWNET32.DLL', 'NWNP32.DLL', 'OLEDLG.DLL', 'OptionalHeader.AddressOfEntryPoint', \n",
        "                  'OptionalHeader.BaseOfCode', 'OptionalHeader.BaseOfData', 'OptionalHeader.CheckSum', 'OptionalHeader.DataDirectory.IMAGE_DIRECTORY_ENTRY_BASERELOC.Size', \n",
        "                  'OptionalHeader.DataDirectory.IMAGE_DIRECTORY_ENTRY_BASERELOC.VirtualAddress', 'OptionalHeader.DataDirectory.IMAGE_DIRECTORY_ENTRY_BOUND_IMPORT.Size', \n",
        "                  'OptionalHeader.DataDirectory.IMAGE_DIRECTORY_ENTRY_BOUND_IMPORT.VirtualAddress', 'OptionalHeader.DataDirectory.IMAGE_DIRECTORY_ENTRY_COM_DESCRIPTOR.Size', \n",
        "                  'OptionalHeader.DataDirectory.IMAGE_DIRECTORY_ENTRY_COM_DESCRIPTOR.VirtualAddress', 'OptionalHeader.DataDirectory.IMAGE_DIRECTORY_ENTRY_DEBUG.Size', \n",
        "                  'OptionalHeader.DataDirectory.IMAGE_DIRECTORY_ENTRY_DEBUG.VirtualAddress', 'OptionalHeader.DataDirectory.IMAGE_DIRECTORY_ENTRY_DELAY_IMPORT.Size', \n",
        "                  'OptionalHeader.DataDirectory.IMAGE_DIRECTORY_ENTRY_DELAY_IMPORT.VirtualAddress', 'OptionalHeader.DataDirectory.IMAGE_DIRECTORY_ENTRY_EXCEPTION.Size', \n",
        "                  'OptionalHeader.DataDirectory.IMAGE_DIRECTORY_ENTRY_EXCEPTION.VirtualAddress', 'OptionalHeader.DataDirectory.IMAGE_DIRECTORY_ENTRY_EXPORT.Size', \n",
        "                  'OptionalHeader.DataDirectory.IMAGE_DIRECTORY_ENTRY_EXPORT.VirtualAddress', 'OptionalHeader.DataDirectory.IMAGE_DIRECTORY_ENTRY_GLOBALPTR.Size', \n",
        "                  'OptionalHeader.DataDirectory.IMAGE_DIRECTORY_ENTRY_GLOBALPTR.VirtualAddress', 'OptionalHeader.DataDirectory.IMAGE_DIRECTORY_ENTRY_IAT.Size', \n",
        "                  'OptionalHeader.DataDirectory.IMAGE_DIRECTORY_ENTRY_IAT.VirtualAddress', 'OptionalHeader.DataDirectory.IMAGE_DIRECTORY_ENTRY_IMPORT.Size', \n",
        "                  'OptionalHeader.DataDirectory.IMAGE_DIRECTORY_ENTRY_IMPORT.VirtualAddress', 'OptionalHeader.DataDirectory.IMAGE_DIRECTORY_ENTRY_LOAD_CONFIG.Size', \n",
        "                  'OptionalHeader.DataDirectory.IMAGE_DIRECTORY_ENTRY_LOAD_CONFIG.VirtualAddress', 'OptionalHeader.DataDirectory.IMAGE_DIRECTORY_ENTRY_RESERVED.Size', \n",
        "                  'OptionalHeader.DataDirectory.IMAGE_DIRECTORY_ENTRY_RESERVED.VirtualAddress', 'OptionalHeader.DataDirectory.IMAGE_DIRECTORY_ENTRY_RESOURCE.Size', \n",
        "                  'OptionalHeader.DataDirectory.IMAGE_DIRECTORY_ENTRY_RESOURCE.VirtualAddress', 'OptionalHeader.DataDirectory.IMAGE_DIRECTORY_ENTRY_SECURITY.Size', \n",
        "                  'OptionalHeader.DataDirectory.IMAGE_DIRECTORY_ENTRY_SECURITY.VirtualAddress', 'OptionalHeader.DataDirectory.IMAGE_DIRECTORY_ENTRY_TLS.Size', \n",
        "                  'OptionalHeader.DataDirectory.IMAGE_DIRECTORY_ENTRY_TLS.VirtualAddress', 'OptionalHeader.DllCharacteristics', 'OptionalHeader.FileAlignment', 'OptionalHeader.ImageBase', \n",
        "                  'OptionalHeader.LoaderFlags', 'OptionalHeader.Magic', 'OptionalHeader.MajorImageVersion', 'OptionalHeader.MajorLinkerVersion', 'OptionalHeader.MajorOperatingSystemVersion', \n",
        "                  'OptionalHeader.MajorSubsystemVersion', 'OptionalHeader.MinorImageVersion', 'OptionalHeader.MinorLinkerVersion', 'OptionalHeader.MinorOperatingSystemVersion', 'OptionalHeader.MinorSubsystemVersion', \n",
        "                  'OptionalHeader.NumberOfRvaAndSizes', 'OptionalHeader.Reserved1', 'OptionalHeader.SectionAlignment', 'OptionalHeader.SizeOfCode', 'OptionalHeader.SizeOfHeaders', 'OptionalHeader.SizeOfHeapCommit', \n",
        "                  'OptionalHeader.SizeOfHeapReserve', 'OptionalHeader.SizeOfImage', 'OptionalHeader.SizeOfInitializedData', 'OptionalHeader.SizeOfStackCommit', 'OptionalHeader.SizeOfStackReserve', \n",
        "                  'OptionalHeader.SizeOfUninitializedData', 'OptionalHeader.Subsystem', 'POWERCFG.DLL', 'RASAPI16.DLL', 'RASAPI32.DLL', 'RASPI.DLL', 'RPCLTC1.DLL', 'RPCNS4.DLL', 'RPCRT4.DLL', 'RPCTLC3.DLL', \n",
        "                  'RPCTLC5.DLL', 'RPCTLC6.DLL', 'RPCTLS3.DLL', 'RPCTLS5.DLL', 'RPCTLS6.DLL', 'RSRC32.DLL', 'Resource.Characteristics', 'Resource.MajorVersion', 'Resource.MinorVersion', 'Resource.NumberOfIdEntries', \n",
        "                  'Resource.NumberOfNamedEntries', 'Resource.RT_ACCELERATOR', 'Resource.RT_BITMAP', 'Resource.RT_CURSOR', 'Resource.RT_DIALOG', 'Resource.RT_DLGINCLUDE', 'Resource.RT_FONT', 'Resource.RT_FONTDIR', \n",
        "                  'Resource.RT_GROUP_CURSOR', 'Resource.RT_GROUP_ICON', 'Resource.RT_ICON', 'Resource.RT_MENU', 'Resource.RT_MESSAGETABLE', 'Resource.RT_RCDATA', 'Resource.RT_STRING', 'Resource.RT_VERSION', \n",
        "                  'Resource.TimeDateStamp', 'SAPNSP.DLL', 'SECUR32.DLL', 'SHELL32.DLL', 'SHLWAPI.DLL', 'SLENH.DLL', 'Section.data.Characteristics', 'Section.data.NumberOfLinenumbers', 'Section.data.NumberOfRelocations', \n",
        "                  'Section.data.PointerToLinenumbers', 'Section.data.PointerToRawData', 'Section.data.PointerToRelocations', 'Section.data.SizeOfRawData', 'Section.data.VirtualAddress', 'Section.data.VirtualSize', \n",
        "                  'Section.rsrc.Characteristics', 'Section.rsrc.NumberOfLinenumbers', 'Section.rsrc.NumberOfRelocations', 'Section.rsrc.PointerToLinenumbers', 'Section.rsrc.PointerToRawData', 'Section.rsrc.PointerToRelocations', \n",
        "                  'Section.rsrc.SizeOfRawData', 'Section.rsrc.VirtualAddress', 'Section.rsrc.VirtualSize', 'Section.text.Characteristics', 'Section.text.NumberOfLinenumbers', 'Section.text.NumberOfRelocations', 'Section.text.PointerToLinenumbers', \n",
        "                  'Section.text.PointerToRawData', 'Section.text.PointerToRelocations', 'Section.text.SizeOfRawData', 'Section.text.VirtualAddress', 'Section.text.VirtualSize', 'UMDM32.DLL', 'USER32.DLL', 'VERSION.DLL', 'WININET.DLL', \n",
        "                  'WINMM.DLL', 'WINREG.DLL', 'WINSOCK.DLL', 'WS2.DLL', 'WSOCK32.DLL']\n",
        "\n",
        "x_real_test = pd.DataFrame(np.load(\"/content/sample_data/new_peminer_test_features.npy\"), columns=peminer_header)\n",
        "x_real_test.head()\n",
        "x_real_test = x_real_test.drop(['FileHeader.TimeDateStamp','GROUP.DLL','NETSETUP.DLL','NWAB32.DLL','NWNET32.DLL','NWNP32.DLL','MAPI32.DLL','MAPI.DLL','LZ32.DLL','POWERCFG.DLL','Resource.RT_DLGINCLUDE',\n",
        "                          'Resource.RT_DIALOG','Resource.RT_CURSOR','Section.text.PointerToLinenumbers','Section.rsrc.NumberOfLinenumbers','OptionalHeader.LoaderFlags',\n",
        "                          'OptionalHeader.DataDirectory.IMAGE_DIRECTORY_ENTRY_RESERVED.Size','OptionalHeader.DataDirectory.IMAGE_DIRECTORY_ENTRY_RESERVED.VirtualAddress','Resource.RT_BITMAP','Resource.RT_ACCELERATOR','Resource.NumberOfIdEntries',\n",
        "                          'Resource.MinorVersion','Resource.MajorVersion','Resource.Characteristics','RSRC32.DLL','RPCTLS6.DLL','RPCTLS5.DLL','RPCTLS3.DLL','RPCTLC6.DLL',\n",
        "                          'RPCTLC5.DLL','RPCTLC3.DLL','RPCNS4.DLL','RPCLTC1.DLL','RASPI.DLL','RASAPI16.DLL','AWFAXP32.DLL','HYPERTERM.DLL','ADVAP132.DLL','KERNL32.DLL',\n",
        "                          'Resource.TimeDateStamp','Section.data.PointerToLinenumbers','DSKMAINT.DLL','Resource.RT_MESSAGETABLE','FileHeader.Machine','FileHeader.NumberOfSections',\n",
        "                          'Section.data.PointerToRelocations','Resource.RT_RCDATA','Resource.RT_STRING','RASAPI32.DLL','FileHeader.NumberOfSymbols','Resource.RT_VERSION',\n",
        "                          'SAPNSP.DLL','Section.data.NumberOfRelocations','Section.data.NumberOfLinenumbers','FileHeader.PointerToSymbolTable',\n",
        "                          'SLENH.DLL','Resource.RT_MENU','FileHeader.SizeOfOptionalHeader','DCIMAN32.DLL','Resource.RT_ICON','OptionalHeader.SectionAlignment',\n",
        "                          'OptionalHeader.DataDirectory.IMAGE_DIRECTORY_ENTRY_GLOBALPTR.VirtualAddress','Section.rsrc.NumberOfRelocations','Section.rsrc.PointerToLinenumbers',\n",
        "                          'WS2.DLL','WINSOCK.DLL','WINREG.DLL','AWPWD32.DLL','AWRESX32.DLL','AWUTIL32.DLL','UMDM32.DLL','NETAPI32.DLL',\n",
        "                          'BHNETB.DLL','BHSUPP.DLL','CCAPI.DLL','Section.text.PointerToRelocations','CCEI.DLL','Section.text.NumberOfRelocations','Section.text.NumberOfLinenumbers',\n",
        "                          'CCPSH.DLL','CCTN20.DLL','CMC.DLL','Resource.RT_GROUP_CURSOR','CRTDLL.DLL','Section.rsrc.PointerToRelocations','DCIMAN.DLL',\n",
        "                          'Resource.RT_GROUP_ICON','Resource.NumberOfNamedEntries','OptionalHeader.SizeOfHeapCommit','OptionalHeader.SizeOfHeapReserve','Resource.RT_FONTDIR','NAL.DLL','MFC30.DLL','MSFS32.DLL','MSNDUI.DLL','MSNET32.DLL','MSPST32.DLL',\n",
        "                          'OptionalHeader.Reserved1','RPCRT4.DLL','OptionalHeader.NumberOfRvaAndSizes','MSSHRUI.DLL','MSVIEWUT.DLL','AWFXAB32.DLL',\n",
        "                          'NDIS30.DLL','Resource.RT_FONT','NETAPI.DLL','NETBIOS.DLL','OptionalHeader.Magic','NETDI.DLL','OptionalHeader.DataDirectory.IMAGE_DIRECTORY_ENTRY_EXCEPTION.Size',\n",
        "                          'OptionalHeader.DataDirectory.IMAGE_DIRECTORY_ENTRY_EXCEPTION.VirtualAddress','OptionalHeader.DataDirectory.IMAGE_DIRECTORY_ENTRY_GLOBALPTR.Size'], axis = 1)"
      ],
      "metadata": {
        "id": "vMP8NPRm0Kz5"
      },
      "execution_count": null,
      "outputs": []
    },
    {
      "cell_type": "code",
      "source": [
        "y_real_test = model.predict(x_real_test)"
      ],
      "metadata": {
        "id": "c6vAXpcH0NBj"
      },
      "execution_count": null,
      "outputs": []
    },
    {
      "cell_type": "code",
      "source": [
        "import csv\n",
        "f = open('network.csv','w', newline='')\n",
        "wr = csv.writer(f)\n",
        "wr.writerow([\"label\"])\n",
        "wr.writerows(map(lambda x: [x], y_real_test))\n",
        "f.close()"
      ],
      "metadata": {
        "id": "o2lFoZZJ9RSE"
      },
      "execution_count": null,
      "outputs": []
    }
  ],
  "metadata": {
    "colab": {
      "provenance": [],
      "authorship_tag": "ABX9TyPQr4Oje2d9qdHCmuUzWyVa",
      "include_colab_link": true
    },
    "kernelspec": {
      "display_name": "Python 3",
      "name": "python3"
    },
    "language_info": {
      "name": "python"
    }
  },
  "nbformat": 4,
  "nbformat_minor": 0
}